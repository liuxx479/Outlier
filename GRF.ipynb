{
 "cells": [
  {
   "cell_type": "code",
   "execution_count": 1,
   "metadata": {
    "collapsed": true
   },
   "outputs": [],
   "source": [
    "from scipy import *\n",
    "import numpy as np\n",
    "from pylab import *\n",
    "from scipy.interpolate import interp1d\n",
    "import os\n",
    "from astropy.io import fits\n",
    "from scipy.special import factorial\n",
    "from classy import Class\n",
    "%matplotlib inline"
   ]
  },
  {
   "cell_type": "markdown",
   "metadata": {},
   "source": [
    "# Fiducial parameters"
   ]
  },
  {
   "cell_type": "code",
   "execution_count": 2,
   "metadata": {
    "collapsed": true
   },
   "outputs": [],
   "source": [
    "######## check TT, Pk (z=0), Clkk (z=1) from class vs camb\n",
    "\n",
    "# LCDM parameters\n",
    "A_s = 2.1e-9\n",
    "h=0.7\n",
    "OmegaB = 0.046\n",
    "OmegaM = 0.3\n",
    "n_s = 0.97\n",
    "tau = 0.054 ## only for primary CMB, not used for now\n",
    "\n",
    "# beyond LCDM, not implemented \n",
    "OmegaDE = 0.75\n",
    "w0=-1.0#-0.5#\n",
    "wa=0.0#0.1#\n",
    "Neff = 3.046\n",
    "mnu = 0.0\n",
    "\n",
    "### derived parameters\n",
    "#z_reio = 10.0 #11.357\n",
    "ombh2 = OmegaB*h**2\n",
    "omch2 = (OmegaM-OmegaB)*h**2\n",
    "H0=h*100\n",
    "### accuracy parameters\n",
    "lmax=5000"
   ]
  },
  {
   "cell_type": "markdown",
   "metadata": {},
   "source": [
    "# Generate Clkk from class"
   ]
  },
  {
   "cell_type": "code",
   "execution_count": 56,
   "metadata": {
    "collapsed": true
   },
   "outputs": [],
   "source": [
    "######### turn the class code into a function taking any As and omega_m\n",
    "def clkk_gen (A_s, Omega_m,zs=1.0):\n",
    "    omch2 = (OmegaM-OmegaB)*h**2\n",
    "    LambdaCDM = Class()\n",
    "    LambdaCDM.set({'omega_b':ombh2,'omega_cdm':omch2,'h':h,'A_s':A_s,'n_s':n_s})\n",
    "    LambdaCDM.set({'output':'mPk,sCl',\n",
    "                   'P_k_max_1/Mpc':10.0,\n",
    "                   #'z_pk':0,\n",
    "                   #'reio_parametrization':'reio_none',\n",
    "                   'l_switch_limber':100,\n",
    "                   'selection':'dirac',\n",
    "                   'selection_mean':zs,\n",
    "                   'l_max_lss':lmax,\n",
    "                   'non linear':'halofit'\n",
    "                  })\n",
    "    # run class\n",
    "    LambdaCDM.compute()\n",
    "\n",
    "    si8=LambdaCDM.sigma8()\n",
    "\n",
    "    cls=LambdaCDM.density_cl(lmax)\n",
    "    print cls.viewkeys()\n",
    "    ell=cls['ell'][2:]\n",
    "    clphiphi=cls['ll'][0][2:]\n",
    "    clkk=1.0/4 * (ell+2.0)*(ell+1.0)*(ell)*(ell-1.0)*clphiphi\n",
    "\n",
    "    return si8, ell, clkk"
   ]
  },
  {
   "cell_type": "code",
   "execution_count": 57,
   "metadata": {
    "collapsed": false
   },
   "outputs": [
    {
     "name": "stdout",
     "output_type": "stream",
     "text": [
      "dict_keys(['ll', 'ell'])\n"
     ]
    }
   ],
   "source": [
    "si8,ell,clkk = clkk_gen (2.1e-9, 0.3)"
   ]
  },
  {
   "cell_type": "code",
   "execution_count": 58,
   "metadata": {
    "collapsed": false
   },
   "outputs": [
    {
     "data": {
      "text/plain": [
       "Text(0.5,1,'2020/3/12 Clkk test (z_s=1)')"
      ]
     },
     "execution_count": 58,
     "metadata": {},
     "output_type": "execute_result"
    },
    {
     "data": {
      "image/png": "[encoded data removed]",
      "text/plain": [
       "<Figure size 432x216 with 1 Axes>"
      ]
     },
     "metadata": {},
     "output_type": "display_data"
    }
   ],
   "source": [
    "figure(3, figsize=(6,3))\n",
    "xscale('log');yscale('log');#xlim(2,2500)\n",
    "xlabel(r'$\\ell$',fontsize=16)\n",
    "ylabel(r'$[\\ell(\\ell+1)/2\\pi]  C_\\ell^\\mathrm{kk}$',fontsize=16)\n",
    "plot(ell,clkk*ell*(ell+1)/2./pi,'g-',lw=1,alpha=0.8,label='class')\n",
    "legend(loc=0,frameon=0)\n",
    "title('2020/3/12 Clkk test (z_s=1)')"
   ]
  },
  {
   "cell_type": "code",
   "execution_count": 37,
   "metadata": {
    "collapsed": false
   },
   "outputs": [
    {
     "name": "stdout",
     "output_type": "stream",
     "text": [
      "10 loops, best of 3: 179 ms per loop\n"
     ]
    }
   ],
   "source": [
    "# %timeit sigma8_dirty_calc (2.1e-9, 0.3)"
   ]
  },
  {
   "cell_type": "markdown",
   "metadata": {},
   "source": [
    "# Do a quick and dirty job to find the banana parameter range"
   ]
  },
  {
   "cell_type": "code",
   "execution_count": 42,
   "metadata": {
    "collapsed": true
   },
   "outputs": [],
   "source": [
    "def sigma8_dirty_calc (x):\n",
    "    A_s, Omega_m = x\n",
    "    omch2 = (OmegaM-OmegaB)*h**2\n",
    "    LambdaCDM = Class()\n",
    "    LambdaCDM.set({'omega_b':ombh2,'omega_cdm':omch2,'h':h,'A_s':A_s,'n_s':n_s})\n",
    "    LambdaCDM.set({'output':'mPk',\n",
    "                   'P_k_max_1/Mpc':0.1,\n",
    "                  })\n",
    "    # run class\n",
    "    LambdaCDM.compute()\n",
    "\n",
    "    si8=LambdaCDM.sigma8()\n",
    "\n",
    "    return si8"
   ]
  },
  {
   "cell_type": "code",
   "execution_count": 45,
   "metadata": {
    "collapsed": false
   },
   "outputs": [],
   "source": [
    "seed(500)\n",
    "# As_arr = ((rand(100) - 0.5) + 2.1 )*1e-9\n",
    "# om_arr = ((rand(100) - 0.5)*0.2 + 0.3 )\n",
    "# si8_arr = map (sigma8_dirty_calc, array([As_arr,om_arr]).T)\n",
    "# save('As_om_si8_test.npy',[As_arr,om_arr,si8_arr])\n",
    "As_arr,om_arr,si8_arr = load('As_om_si8_test.npy')"
   ]
  },
  {
   "cell_type": "code",
   "execution_count": 68,
   "metadata": {
    "collapsed": false
   },
   "outputs": [
    {
     "name": "stdout",
     "output_type": "stream",
     "text": [
      "y = -2.10 + 7.91 x\n"
     ]
    }
   ],
   "source": [
    "b, a =np.polyfit(si8_arr, As_arr*1e9, 1)\n",
    "print 'y = %.2f + %.2f x' % (a, b)"
   ]
  },
  {
   "cell_type": "code",
   "execution_count": 72,
   "metadata": {
    "collapsed": false
   },
   "outputs": [
    {
     "data": {
      "image/png": "[encoded data removed]",
      "text/plain": [
       "<Figure size 720x216 with 3 Axes>"
      ]
     },
     "metadata": {},
     "output_type": "display_data"
    }
   ],
   "source": [
    "f=figure(figsize=(10,3))\n",
    "subplot(131)\n",
    "scatter(om_arr, As_arr*1e9)\n",
    "xlabel('om');ylabel('As')\n",
    "subplot(132)\n",
    "scatter(om_arr, si8_arr)\n",
    "xlabel('om');ylabel('si8')\n",
    "subplot(133)\n",
    "scatter(si8_arr, As_arr*1e9,label='class points')\n",
    "plot(si8_arr, a+b*si8_arr, 'r-',label='y = %.2f + %.2f x')\n",
    "legend()\n",
    "xlabel('si8');ylabel('As')\n",
    "plt.tight_layout()\n"
   ]
  },
  {
   "cell_type": "code",
   "execution_count": null,
   "metadata": {
    "collapsed": true
   },
   "outputs": [],
   "source": [
    "###### 5s per map, need 28 cores finish in 1 hr?"
   ]
  }
 ],
 "metadata": {
  "anaconda-cloud": {},
  "kernelspec": {
   "display_name": "Python [default]",
   "language": "python",
   "name": "python2"
  },
  "language_info": {
   "codemirror_mode": {
    "name": "ipython",
    "version": 2
   },
   "file_extension": ".py",
   "mimetype": "text/x-python",
   "name": "python",
   "nbconvert_exporter": "python",
   "pygments_lexer": "ipython2",
   "version": "2.7.6"
  }
 },
 "nbformat": 4,
 "nbformat_minor": 1
}
