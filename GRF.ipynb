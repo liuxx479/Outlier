{
 "cells": [
  {
   "cell_type": "code",
   "execution_count": 1,
   "metadata": {
    "collapsed": true
   },
   "outputs": [],
   "source": [
    "from scipy import *\n",
    "import numpy as np\n",
    "from pylab import *\n",
    "from scipy.interpolate import interp1d\n",
    "import os\n",
    "from astropy.io import fits\n",
    "from scipy.special import factorial\n",
    "from classy import Class\n",
    "%matplotlib inline"
   ]
  },
  {
   "cell_type": "markdown",
   "metadata": {},
   "source": [
    "# Fiducial parameters"
   ]
  },
  {
   "cell_type": "code",
   "execution_count": 2,
   "metadata": {
    "collapsed": true
   },
   "outputs": [],
   "source": [
    "######## check TT, Pk (z=0), Clkk (z=1) from class vs camb\n",
    "\n",
    "# LCDM parameters\n",
    "A_s = 2.1e-9\n",
    "h=0.7\n",
    "OmegaB = 0.046\n",
    "OmegaM = 0.3\n",
    "n_s = 0.97\n",
    "tau = 0.054 ## only for primary CMB, not used for now\n",
    "\n",
    "# beyond LCDM, not implemented \n",
    "OmegaDE = 0.75\n",
    "w0=-1.0#-0.5#\n",
    "wa=0.0#0.1#\n",
    "Neff = 3.046\n",
    "mnu = 0.0\n",
    "\n",
    "### derived parameters\n",
    "#z_reio = 10.0 #11.357\n",
    "ombh2 = OmegaB*h**2\n",
    "omch2 = (OmegaM-OmegaB)*h**2\n",
    "H0=h*100\n",
    "### accuracy parameters\n",
    "lmax=5000"
   ]
  },
  {
   "cell_type": "code",
   "execution_count": 13,
   "metadata": {
    "collapsed": false
   },
   "outputs": [],
   "source": [
    "zs=1.0\n",
    "# create instance of the class \"Class\"\n",
    "\n",
    "LambdaCDM = Class()\n",
    "LambdaCDM.set({'omega_b':ombh2,'omega_cdm':omch2,'h':h,'A_s':A_s,'n_s':n_s})\n",
    "LambdaCDM.set({'output':'mPk,sCl',\n",
    "               'P_k_max_1/Mpc':10.0,\n",
    "               #'z_pk':0,\n",
    "               #'reio_parametrization':'reio_none',\n",
    "               'l_switch_limber':100,\n",
    "               'selection':'dirac',\n",
    "               'selection_mean':1.0,\n",
    "               'l_max_lss':lmax,\n",
    "               'perturb_sampling_stepsize':0.01\n",
    "              })\n",
    "# run class\n",
    "LambdaCDM.compute()\n",
    "\n",
    "si8=LambdaCDM.sigma8()"
   ]
  },
  {
   "cell_type": "code",
   "execution_count": 21,
   "metadata": {
    "collapsed": false
   },
   "outputs": [
    {
     "name": "stdout",
     "output_type": "stream",
     "text": [
      "dict_keys(['ll', 'ell'])\n"
     ]
    }
   ],
   "source": [
    "cls=LambdaCDM.density_cl(lmax)\n",
    "print cls.viewkeys()\n",
    "ell=cls['ell'][2:]\n",
    "clphiphi=cls['ll'][0][2:]\n",
    "clkk=1.0/4 * (ell+2.0)*(ell+1.0)*(ell)*(ell-1.0)*clphiphi"
   ]
  },
  {
   "cell_type": "code",
   "execution_count": 25,
   "metadata": {
    "collapsed": false
   },
   "outputs": [
    {
     "data": {
      "text/plain": [
       "Text(0.5,1,'2020/3/12 Clkk test (z_s=1)')"
      ]
     },
     "execution_count": 25,
     "metadata": {},
     "output_type": "execute_result"
    },
    {
     "data": {
      "image/png": "[encoded data removed]",
      "text/plain": [
       "<Figure size 432x216 with 1 Axes>"
      ]
     },
     "metadata": {},
     "output_type": "display_data"
    }
   ],
   "source": [
    "figure(3, figsize=(6,3))\n",
    "xscale('log');yscale('log');#xlim(2,2500)\n",
    "xlabel(r'$\\ell$',fontsize=16)\n",
    "ylabel(r'$[\\ell(\\ell+1)/2\\pi]  C_\\ell^\\mathrm{kk}$',fontsize=16)\n",
    "plot(ell,clkk*ell*(ell+1)/2./pi,'g-',lw=1,alpha=0.8,label='class')\n",
    "legend(loc=0,frameon=0)\n",
    "title('2020/3/12 Clkk test (z_s=1)')"
   ]
  },
  {
   "cell_type": "code",
   "execution_count": null,
   "metadata": {
    "collapsed": true
   },
   "outputs": [],
   "source": []
  }
 ],
 "metadata": {
  "anaconda-cloud": {},
  "kernelspec": {
   "display_name": "Python [default]",
   "language": "python",
   "name": "python2"
  },
  "language_info": {
   "codemirror_mode": {
    "name": "ipython",
    "version": 2
   },
   "file_extension": ".py",
   "mimetype": "text/x-python",
   "name": "python",
   "nbconvert_exporter": "python",
   "pygments_lexer": "ipython2",
   "version": "2.7.6"
  }
 },
 "nbformat": 4,
 "nbformat_minor": 1
}
