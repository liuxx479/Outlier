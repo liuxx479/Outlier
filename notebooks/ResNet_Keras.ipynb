{
  "nbformat": 4,
  "nbformat_minor": 0,
  "metadata": {
    "colab": {
      "name": "Demo_Keras_resnet.ipynb",
      "provenance": [],
      "machine_shape": "hm",
      "include_colab_link": true
    },
    "kernelspec": {
      "name": "python3",
      "display_name": "Python 3"
    },
    "accelerator": "GPU"
  },
  "cells": [
    {
      "cell_type": "markdown",
      "metadata": {
        "id": "view-in-github",
        "colab_type": "text"
      },
      "source": [
        "<a href=\"https://colab.research.google.com/github/liuxx479/Outlier/blob/master/notebooks/ResNet_Keras.ipynb\" target=\"_parent\"><img src=\"https://colab.research.google.com/assets/colab-badge.svg\" alt=\"Open In Colab\"/></a>"
      ]
    },
    {
      "cell_type": "markdown",
      "metadata": {
        "id": "JsLvqwCH0oKY",
        "colab_type": "text"
      },
      "source": [
        "# Short introduction to the Outlier package"
      ]
    },
    {
      "cell_type": "code",
      "metadata": {
        "id": "Q_pl_QMJ0lzK",
        "colab_type": "code",
        "outputId": "b45440dd-e98f-4abd-cdc7-454100c73e33",
        "colab": {
          "base_uri": "https://localhost:8080/",
          "height": 34
        }
      },
      "source": [
        "%pylab inline\n",
        "import tensorflow as tf\n",
        "from tensorflow import keras\n",
        "from tensorflow.keras import layers\n",
        "import numpy as np\n",
        "import os"
      ],
      "execution_count": 1,
      "outputs": [
        {
          "output_type": "stream",
          "text": [
            "Populating the interactive namespace from numpy and matplotlib\n"
          ],
          "name": "stdout"
        }
      ]
    },
    {
      "cell_type": "code",
      "metadata": {
        "id": "pHDxNNay8WNN",
        "colab_type": "code",
        "outputId": "a897d8e3-dc23-4aba-a630-e7e4d8633e86",
        "colab": {
          "base_uri": "https://localhost:8080/",
          "height": 34
        }
      },
      "source": [
        "!pip install --quiet git+https://github.com/liuxx479/Outlier.git\n",
        "from outlier.datasets import gaussian_convergence"
      ],
      "execution_count": 2,
      "outputs": [
        {
          "output_type": "stream",
          "text": [
            "  Building wheel for Outlier (setup.py) ... \u001b[?25l\u001b[?25hdone\n"
          ],
          "name": "stdout"
        }
      ]
    },
    {
      "cell_type": "code",
      "metadata": {
        "id": "jEJ90blE0BfP",
        "colab_type": "code",
        "outputId": "65fd77e2-1494-403c-d0f3-2e3fa2d8f918",
        "colab": {
          "base_uri": "https://localhost:8080/",
          "height": 34
        }
      },
      "source": [
        "%tensorflow_version 2.x\n",
        "%pylab inline\n",
        "import tensorflow_datasets as tfds\n",
        "from outlier.datasets import gaussian_convergence"
      ],
      "execution_count": 3,
      "outputs": [
        {
          "output_type": "stream",
          "text": [
            "Populating the interactive namespace from numpy and matplotlib\n"
          ],
          "name": "stdout"
        }
      ]
    },
    {
      "cell_type": "code",
      "metadata": {
        "id": "n5eyLYK50HzR",
        "colab_type": "code",
        "outputId": "95d3a72a-ef18-4c80-8993-3e2891260f19",
        "colab": {
          "base_uri": "https://localhost:8080/",
          "height": 34
        }
      },
      "source": [
        "from google.colab import drive\n",
        "drive.mount('/content/drive')\n",
        "\n",
        "root = '/content/drive/My Drive'\n",
        "data_path = os.path.join(root,'tensorflow_datasets/')\n",
        "model_path= os.path.join(root,'models/Keras')\n",
        "\n",
        "if not os.path.isdir(model_path):\n",
        "    os.makedirs(model_path)"
      ],
      "execution_count": 4,
      "outputs": [
        {
          "output_type": "stream",
          "text": [
            "Drive already mounted at /content/drive; to attempt to forcibly remount, call drive.mount(\"/content/drive\", force_remount=True).\n"
          ],
          "name": "stdout"
        }
      ]
    },
    {
      "cell_type": "code",
      "metadata": {
        "id": "Uu1bROyknRmB",
        "colab_type": "code",
        "colab": {}
      },
      "source": [
        "S8_gen= lambda params: sqrt(params.T[0]/0.3)*params.T[1]"
      ],
      "execution_count": 0,
      "outputs": []
    },
    {
      "cell_type": "code",
      "metadata": {
        "id": "W6o43ISO86tm",
        "colab_type": "code",
        "colab": {}
      },
      "source": [
        "VERSION = tfds.core.Version('0.1.0')\n",
        "dataset, info = tfds.load(name=\"gaussian_convergence\", download=0, split=\"train\", data_dir=data_path, with_info=True)"
      ],
      "execution_count": 0,
      "outputs": []
    },
    {
      "cell_type": "code",
      "metadata": {
        "id": "Hq3n6BRxS5RK",
        "colab_type": "code",
        "colab": {}
      },
      "source": [
        "## Implementing a simple resnet model\n",
        "def redefine(data):\n",
        "    x    = data['map'] \n",
        "    x    = tf.expand_dims(x,-1)\n",
        "    y    = data['params']\n",
        "    return x, y\n",
        "\n",
        "def downsample(x,y):\n",
        "    x    = tf.image.resize(x,[128,128])\n",
        "    return x, y\n",
        "  \n",
        "def augmentation(x, y):\n",
        "  x = tf.image.random_flip_left_right(x)\n",
        "  x = tf.image.random_flip_up_down(x)\n",
        "  x = tf.image.rot90(x, k=randint(4)) \n",
        "  # x = x + 0.02*tf.random.normal(shape=(128,128,1))\n",
        "  return x, y"
      ],
      "execution_count": 0,
      "outputs": []
    },
    {
      "cell_type": "code",
      "metadata": {
        "id": "AKhiaatJ-Itg",
        "colab_type": "code",
        "colab": {}
      },
      "source": [
        "DATASET_SIZE = 20000\n",
        "BATCH_SIZE = 32*4\n",
        "\n",
        "train_size = int(0.8 * DATASET_SIZE)\n",
        "test_size = int(0.2 * DATASET_SIZE)\n",
        "\n",
        "full_dataset = dataset.map(redefine).map(downsample)\n",
        "\n",
        "train_dataset= full_dataset.take(train_size).repeat().map(augmentation).shuffle(buffer_size=2000).batch(BATCH_SIZE)\n",
        "test_dataset = full_dataset.skip(train_size).take(test_size).map(augmentation).batch(BATCH_SIZE)"
      ],
      "execution_count": 0,
      "outputs": []
    },
    {
      "cell_type": "markdown",
      "metadata": {
        "id": "saUgxSdvUTXq",
        "colab_type": "text"
      },
      "source": [
        "### Let's define the neural network"
      ]
    },
    {
      "cell_type": "code",
      "metadata": {
        "id": "4dpp3CM9-sw6",
        "colab_type": "code",
        "colab": {}
      },
      "source": [
        "inputs = tf.keras.Input(shape=(128, 128, 1))\n",
        "resnet = tf.keras.applications.resnet_v2.ResNet50V2(include_top=False,\n",
        "                                                    weights=None,\n",
        "                                                    input_shape=[128,128,1],\n",
        "                                                    pooling='avg',\n",
        "              # classifier_activation=tf.keras.layers.LeakyReLU(alpha=0.3)\n",
        "              )\n",
        "net = resnet(inputs)\n",
        "outputs = tf.keras.layers.Dense(2)(net)"
      ],
      "execution_count": 0,
      "outputs": []
    },
    {
      "cell_type": "code",
      "metadata": {
        "id": "AYMKVdTexUqq",
        "colab_type": "code",
        "colab": {
          "base_uri": "https://localhost:8080/",
          "height": 255
        },
        "outputId": "98a81a3c-5168-4a8c-fec6-fe8fc96a2736"
      },
      "source": [
        "model = tf.keras.Model(inputs, outputs)\n",
        "model.summary()"
      ],
      "execution_count": 10,
      "outputs": [
        {
          "output_type": "stream",
          "text": [
            "Model: \"model\"\n",
            "_________________________________________________________________\n",
            "Layer (type)                 Output Shape              Param #   \n",
            "=================================================================\n",
            "input_1 (InputLayer)         [(None, 128, 128, 1)]     0         \n",
            "_________________________________________________________________\n",
            "resnet50v2 (Model)           (None, 2048)              23558528  \n",
            "_________________________________________________________________\n",
            "dense (Dense)                (None, 2)                 4098      \n",
            "=================================================================\n",
            "Total params: 23,562,626\n",
            "Trainable params: 23,517,186\n",
            "Non-trainable params: 45,440\n",
            "_________________________________________________________________\n"
          ],
          "name": "stdout"
        }
      ]
    },
    {
      "cell_type": "code",
      "metadata": {
        "id": "ZMVdjJ9Xxu9J",
        "colab_type": "code",
        "colab": {}
      },
      "source": [
        "checkpoint_file = os.path.join(model_path+'/weights.{epoch:02d}-{val_loss:.3f}.hdf5')\n",
        "ckpt_callback   = keras.callbacks.ModelCheckpoint(filepath=checkpoint_file, monitor='val_loss')\n",
        "callbacks     = [ckpt_callback]\n",
        "hists = []"
      ],
      "execution_count": 0,
      "outputs": []
    },
    {
      "cell_type": "code",
      "metadata": {
        "id": "DG8Qxei_ioVM",
        "colab_type": "code",
        "colab": {
          "base_uri": "https://localhost:8080/",
          "height": 34
        },
        "outputId": "8761d507-3acc-4052-d1cb-ab8521efae05"
      },
      "source": [
        "def newest(path):\n",
        "    files = os.listdir(path)\n",
        "    paths = [os.path.join(path, basename) for basename in files]\n",
        "    try:\n",
        "        return max(paths, key=os.path.getctime)\n",
        "    except:\n",
        "        return None\n",
        "\n",
        "latest_file=newest(model_path)\n",
        "\n",
        "print(latest_file)"
      ],
      "execution_count": 12,
      "outputs": [
        {
          "output_type": "stream",
          "text": [
            "/content/drive/My Drive/models/Keras/save\n"
          ],
          "name": "stdout"
        }
      ]
    },
    {
      "cell_type": "markdown",
      "metadata": {
        "id": "6nDmJBpAUY0e",
        "colab_type": "text"
      },
      "source": [
        "### Training"
      ]
    },
    {
      "cell_type": "code",
      "metadata": {
        "id": "UIbsxHO0_bAH",
        "colab_type": "code",
        "colab": {}
      },
      "source": [
        "latest_file=None #model_path+'/weights.50-0.020.hdf5'\n",
        "if latest_file is None:\n",
        "  model.compile(optimizer=tf.keras.optimizers.Adam(learning_rate=1e-4),loss='mse')    \n",
        "  # res_net_model.compile(optimizer=keras.optimizers.Adam(),loss=loss_L2,metrics=['mse','mse'])  \n",
        "else:\n",
        "  print(latest_file)\n",
        "  model = keras.models.load_model(latest_file)"
      ],
      "execution_count": 0,
      "outputs": []
    },
    {
      "cell_type": "code",
      "metadata": {
        "id": "n6789iClAA7z",
        "colab_type": "code",
        "outputId": "ffe77bd9-81e4-47f4-aabd-c3c807044a0b",
        "colab": {
          "base_uri": "https://localhost:8080/",
          "height": 1000
        }
      },
      "source": [
        "history = model.fit(train_dataset, epochs=50, batch_size=BATCH_SIZE,\n",
        "                    verbose=1, \n",
        "                    steps_per_epoch=int(0.8*20000/BATCH_SIZE)-1,\n",
        "                    validation_data=test_dataset,validation_steps=2,\n",
        "                    callbacks=callbacks\n",
        "                    )\n",
        "hists.append(history)"
      ],
      "execution_count": 16,
      "outputs": [
        {
          "output_type": "stream",
          "text": [
            "Epoch 1/50\n",
            "124/124 [==============================] - 39s 318ms/step - loss: 0.1126 - val_loss: 0.1781\n",
            "Epoch 2/50\n",
            "124/124 [==============================] - 39s 313ms/step - loss: 0.0277 - val_loss: 0.0600\n",
            "Epoch 3/50\n",
            "124/124 [==============================] - 39s 314ms/step - loss: 0.0242 - val_loss: 0.0177\n",
            "Epoch 4/50\n",
            "124/124 [==============================] - 39s 314ms/step - loss: 0.0227 - val_loss: 0.0449\n",
            "Epoch 5/50\n",
            "124/124 [==============================] - 39s 316ms/step - loss: 0.0207 - val_loss: 0.0191\n",
            "Epoch 6/50\n",
            "124/124 [==============================] - 39s 311ms/step - loss: 0.0190 - val_loss: 0.0290\n",
            "Epoch 7/50\n",
            "124/124 [==============================] - 39s 318ms/step - loss: 0.0181 - val_loss: 0.0193\n",
            "Epoch 8/50\n",
            "124/124 [==============================] - 39s 315ms/step - loss: 0.0166 - val_loss: 0.0224\n",
            "Epoch 9/50\n",
            "124/124 [==============================] - 39s 318ms/step - loss: 0.0158 - val_loss: 0.0178\n",
            "Epoch 10/50\n",
            "124/124 [==============================] - 40s 319ms/step - loss: 0.0150 - val_loss: 0.0213\n",
            "Epoch 11/50\n",
            "124/124 [==============================] - 39s 313ms/step - loss: 0.0142 - val_loss: 0.0178\n",
            "Epoch 12/50\n",
            "124/124 [==============================] - 39s 315ms/step - loss: 0.0135 - val_loss: 0.0206\n",
            "Epoch 13/50\n",
            "124/124 [==============================] - 38s 309ms/step - loss: 0.0129 - val_loss: 0.0278\n",
            "Epoch 14/50\n",
            "124/124 [==============================] - 39s 316ms/step - loss: 0.0126 - val_loss: 0.0158\n",
            "Epoch 15/50\n",
            "124/124 [==============================] - 39s 316ms/step - loss: 0.0122 - val_loss: 0.0161\n",
            "Epoch 16/50\n",
            "124/124 [==============================] - 39s 312ms/step - loss: 0.0118 - val_loss: 0.0180\n",
            "Epoch 17/50\n",
            "124/124 [==============================] - 39s 311ms/step - loss: 0.0114 - val_loss: 0.0195\n",
            "Epoch 18/50\n",
            "124/124 [==============================] - 40s 319ms/step - loss: 0.0114 - val_loss: 0.0268\n",
            "Epoch 19/50\n",
            "124/124 [==============================] - 39s 314ms/step - loss: 0.0111 - val_loss: 0.0157\n",
            "Epoch 20/50\n",
            "124/124 [==============================] - 40s 319ms/step - loss: 0.0107 - val_loss: 0.0167\n",
            "Epoch 21/50\n",
            "124/124 [==============================] - 40s 324ms/step - loss: 0.0103 - val_loss: 0.0188\n",
            "Epoch 22/50\n",
            "124/124 [==============================] - 39s 318ms/step - loss: 0.0102 - val_loss: 0.0222\n",
            "Epoch 23/50\n",
            "124/124 [==============================] - 39s 318ms/step - loss: 0.0102 - val_loss: 0.0180\n",
            "Epoch 24/50\n",
            "124/124 [==============================] - 39s 316ms/step - loss: 0.0102 - val_loss: 0.0174\n",
            "Epoch 25/50\n",
            "124/124 [==============================] - 40s 320ms/step - loss: 0.0098 - val_loss: 0.0181\n",
            "Epoch 26/50\n",
            "124/124 [==============================] - 39s 316ms/step - loss: 0.0100 - val_loss: 0.0232\n",
            "Epoch 27/50\n",
            "124/124 [==============================] - 39s 313ms/step - loss: 0.0099 - val_loss: 0.0241\n",
            "Epoch 28/50\n",
            "124/124 [==============================] - 39s 316ms/step - loss: 0.0098 - val_loss: 0.0165\n",
            "Epoch 29/50\n",
            "124/124 [==============================] - 39s 314ms/step - loss: 0.0094 - val_loss: 0.0176\n",
            "Epoch 30/50\n",
            "124/124 [==============================] - 39s 316ms/step - loss: 0.0096 - val_loss: 0.0185\n",
            "Epoch 31/50\n",
            "124/124 [==============================] - 39s 313ms/step - loss: 0.0096 - val_loss: 0.0191\n",
            "Epoch 32/50\n",
            "124/124 [==============================] - 40s 321ms/step - loss: 0.0094 - val_loss: 0.0168\n",
            "Epoch 33/50\n",
            "124/124 [==============================] - 40s 320ms/step - loss: 0.0093 - val_loss: 0.0206\n",
            "Epoch 34/50\n",
            "124/124 [==============================] - 39s 317ms/step - loss: 0.0094 - val_loss: 0.0195\n",
            "Epoch 35/50\n",
            "124/124 [==============================] - 39s 317ms/step - loss: 0.0090 - val_loss: 0.0263\n",
            "Epoch 36/50\n",
            "124/124 [==============================] - 39s 315ms/step - loss: 0.0090 - val_loss: 0.0191\n",
            "Epoch 37/50\n",
            "124/124 [==============================] - 39s 312ms/step - loss: 0.0090 - val_loss: 0.0288\n",
            "Epoch 38/50\n",
            "124/124 [==============================] - 39s 316ms/step - loss: 0.0089 - val_loss: 0.0185\n",
            "Epoch 39/50\n",
            "124/124 [==============================] - 39s 317ms/step - loss: 0.0088 - val_loss: 0.0209\n",
            "Epoch 40/50\n",
            "124/124 [==============================] - 39s 317ms/step - loss: 0.0086 - val_loss: 0.0247\n",
            "Epoch 41/50\n",
            "124/124 [==============================] - 39s 316ms/step - loss: 0.0086 - val_loss: 0.0187\n",
            "Epoch 42/50\n",
            "124/124 [==============================] - 39s 318ms/step - loss: 0.0082 - val_loss: 0.0185\n",
            "Epoch 43/50\n",
            "124/124 [==============================] - 40s 322ms/step - loss: 0.0079 - val_loss: 0.0213\n",
            "Epoch 44/50\n",
            "124/124 [==============================] - 39s 316ms/step - loss: 0.0082 - val_loss: 0.0189\n",
            "Epoch 45/50\n",
            "124/124 [==============================] - 40s 324ms/step - loss: 0.0078 - val_loss: 0.0224\n",
            "Epoch 46/50\n",
            "124/124 [==============================] - 39s 317ms/step - loss: 0.0079 - val_loss: 0.0171\n",
            "Epoch 47/50\n",
            "124/124 [==============================] - 39s 316ms/step - loss: 0.0075 - val_loss: 0.0328\n",
            "Epoch 48/50\n",
            "124/124 [==============================] - 39s 314ms/step - loss: 0.0074 - val_loss: 0.0180\n",
            "Epoch 49/50\n",
            "124/124 [==============================] - 39s 313ms/step - loss: 0.0071 - val_loss: 0.0178\n",
            "Epoch 50/50\n",
            "124/124 [==============================] - 40s 322ms/step - loss: 0.0071 - val_loss: 0.0195\n"
          ],
          "name": "stdout"
        }
      ]
    },
    {
      "cell_type": "code",
      "metadata": {
        "id": "boF6deZ2JL8h",
        "colab_type": "code",
        "outputId": "1c05ee46-8cd8-469d-c530-550fa8b86a22",
        "colab": {
          "base_uri": "https://localhost:8080/",
          "height": 314
        }
      },
      "source": [
        "truth = next(train_dataset.as_numpy_iterator()) \n",
        "print (truth[0].shape, truth[1].shape)\n",
        "predictions = model.predict(x=truth[0])\n",
        "\n",
        "truth_valid = next(test_dataset.as_numpy_iterator())\n",
        "predictions_validation = model.predict(x=truth_valid[0])\n",
        "params_valid = truth_valid[1]\n",
        "\n",
        "params_pred = predictions\n",
        "params_input = truth[1]\n",
        "true_s8=S8_gen(params_input)\n",
        "pred_s8=S8_gen(np.array(params_pred))\n",
        "\n",
        "true_s8_valid=S8_gen(params_valid)\n",
        "pred_s8_valid=S8_gen(np.array(predictions_validation))\n",
        "\n",
        "losses_train=history.history['loss']\n",
        "losses_val=history.history['val_loss']\n",
        "epocharr=history.epoch\n",
        "\n",
        "figure(figsize=(14,4))\n",
        "subplot(1,3,1)\n",
        "scatter(params_input.T[0], params_input.T[1],color='r', label='input')\n",
        "scatter(params_pred.T[0], params_pred.T[1],color='b', label='prediction')\n",
        "title('parameters')\n",
        "xlabel('om')\n",
        "ylabel('sigma8')\n",
        "legend(fontsize=10, frameon=1)\n",
        "subplot(1,3,2)\n",
        "scatter(true_s8, pred_s8, color='k',label='training')\n",
        "scatter(true_s8_valid, pred_s8_valid, color='orange',label='validation')\n",
        "legend(fontsize=10, frameon=1)\n",
        "xlabel('input S8')\n",
        "ylabel('predicted S8')\n",
        "#ylim(0,1)\n",
        "title('comparison')\n",
        "subplot(1,3,3)\n",
        "plot(epocharr, losses_train,'-',label='loss (training)')\n",
        "plot(epocharr, losses_val, '--',label='loss (validation)')\n",
        "legend(fontsize=10, frameon=0)\n",
        "xlabel('epoch')\n",
        "ylabel('loss')\n",
        "title('learning rate 1e-4, no noise weights.50-0.020.hdf5')\n",
        "plt.tight_layout()"
      ],
      "execution_count": 17,
      "outputs": [
        {
          "output_type": "stream",
          "text": [
            "(128, 128, 128, 1) (128, 2)\n"
          ],
          "name": "stdout"
        },
        {
          "output_type": "display_data",
          "data": {
            "image/png": "[encoded data removed]",
            "text/plain": [
              "<Figure size 1008x288 with 3 Axes>"
            ]
          },
          "metadata": {
            "tags": [],
            "needs_background": "light"
          }
        }
      ]
    },
    {
      "cell_type": "code",
      "metadata": {
        "id": "6tI5Ar8Bo6tP",
        "colab_type": "code",
        "colab": {}
      },
      "source": [
        ""
      ],
      "execution_count": 0,
      "outputs": []
    }
  ]
}