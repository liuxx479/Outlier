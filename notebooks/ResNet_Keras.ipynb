{
  "nbformat": 4,
  "nbformat_minor": 0,
  "metadata": {
    "colab": {
      "name": "Demo_Keras_resnet.ipynb",
      "provenance": [],
      "include_colab_link": true
    },
    "kernelspec": {
      "name": "python3",
      "display_name": "Python 3"
    },
    "accelerator": "GPU"
  },
  "cells": [
    {
      "cell_type": "markdown",
      "metadata": {
        "id": "view-in-github",
        "colab_type": "text"
      },
      "source": [
        "<a href=\"https://colab.research.google.com/github/liuxx479/Outlier/blob/master/notebooks/ResNet_Keras.ipynb\" target=\"_parent\"><img src=\"https://colab.research.google.com/assets/colab-badge.svg\" alt=\"Open In Colab\"/></a>"
      ]
    },
    {
      "cell_type": "markdown",
      "metadata": {
        "id": "JsLvqwCH0oKY",
        "colab_type": "text"
      },
      "source": [
        "# Short introduction to the Outlier package"
      ]
    },
    {
      "cell_type": "code",
      "metadata": {
        "id": "Q_pl_QMJ0lzK",
        "colab_type": "code",
        "outputId": "7a14d437-753c-458b-b695-c4b42e2a46c2",
        "colab": {
          "base_uri": "https://localhost:8080/",
          "height": 34
        }
      },
      "source": [
        "%pylab inline\n",
        "import tensorflow as tf\n",
        "from tensorflow import keras\n",
        "from tensorflow.keras import layers\n",
        "import numpy as np\n",
        "import os"
      ],
      "execution_count": 1,
      "outputs": [
        {
          "output_type": "stream",
          "text": [
            "Populating the interactive namespace from numpy and matplotlib\n"
          ],
          "name": "stdout"
        }
      ]
    },
    {
      "cell_type": "code",
      "metadata": {
        "id": "pHDxNNay8WNN",
        "colab_type": "code",
        "colab": {
          "base_uri": "https://localhost:8080/",
          "height": 34
        },
        "outputId": "240e0401-e586-4208-ad04-5d63b0ef4466"
      },
      "source": [
        "!pip install --quiet git+https://github.com/liuxx479/Outlier.git\n",
        "from outlier.datasets import gaussian_convergence"
      ],
      "execution_count": 2,
      "outputs": [
        {
          "output_type": "stream",
          "text": [
            "  Building wheel for Outlier (setup.py) ... \u001b[?25l\u001b[?25hdone\n"
          ],
          "name": "stdout"
        }
      ]
    },
    {
      "cell_type": "code",
      "metadata": {
        "id": "jEJ90blE0BfP",
        "colab_type": "code",
        "outputId": "dbc43fea-2c17-4bf8-e82e-389a86e694f7",
        "colab": {
          "base_uri": "https://localhost:8080/",
          "height": 34
        }
      },
      "source": [
        "%tensorflow_version 2.x\n",
        "%pylab inline\n",
        "import tensorflow_datasets as tfds\n",
        "from outlier.datasets import gaussian_convergence"
      ],
      "execution_count": 4,
      "outputs": [
        {
          "output_type": "stream",
          "text": [
            "Populating the interactive namespace from numpy and matplotlib\n"
          ],
          "name": "stdout"
        }
      ]
    },
    {
      "cell_type": "code",
      "metadata": {
        "id": "n5eyLYK50HzR",
        "colab_type": "code",
        "outputId": "1a6c3986-6ed8-4316-86fd-66c527dac504",
        "colab": {
          "base_uri": "https://localhost:8080/",
          "height": 122
        }
      },
      "source": [
        "from google.colab import drive\n",
        "drive.mount('/content/drive')\n",
        "\n",
        "root = '/content/drive/My Drive'\n",
        "data_path = os.path.join(root,'tensorflow_datasets/')\n",
        "model_path= os.path.join(root,'models/Keras')\n",
        "\n",
        "if not os.path.isdir(model_path):\n",
        "    os.makedirs(model_path)"
      ],
      "execution_count": 5,
      "outputs": [
        {
          "output_type": "stream",
          "text": [
            "Go to this URL in a browser: https://accounts.google.com/o/oauth2/auth?client_id=947318989803-6bn6qk8qdgf4n4g3pfee6491hc0brc4i.apps.googleusercontent.com&redirect_uri=urn%3aietf%3awg%3aoauth%3a2.0%3aoob&response_type=code&scope=email%20https%3a%2f%2fwww.googleapis.com%2fauth%2fdocs.test%20https%3a%2f%2fwww.googleapis.com%2fauth%2fdrive%20https%3a%2f%2fwww.googleapis.com%2fauth%2fdrive.photos.readonly%20https%3a%2f%2fwww.googleapis.com%2fauth%2fpeopleapi.readonly\n",
            "\n",
            "Enter your authorization code:\n",
            "··········\n",
            "Mounted at /content/drive\n"
          ],
          "name": "stdout"
        }
      ]
    },
    {
      "cell_type": "code",
      "metadata": {
        "id": "W6o43ISO86tm",
        "colab_type": "code",
        "colab": {}
      },
      "source": [
        "VERSION = tfds.core.Version('0.1.0')\n",
        "dataset, info = tfds.load(name=\"gaussian_convergence\", download=0, split=\"train\", data_dir=data_path, with_info=True)"
      ],
      "execution_count": 0,
      "outputs": []
    },
    {
      "cell_type": "code",
      "metadata": {
        "id": "Hq3n6BRxS5RK",
        "colab_type": "code",
        "colab": {}
      },
      "source": [
        "## Implementing a simple resnet model\n",
        "def redefine(data):\n",
        "    x    = data['map'] \n",
        "    x    = tf.expand_dims(x,-1)\n",
        "    y    = data['params']\n",
        "    return x, y\n",
        "\n",
        "def downsample(x,y):\n",
        "    x    = tf.image.resize(x,[128,128])\n",
        "    return x, y\n",
        "  \n",
        "def augmentation(x, y):\n",
        "  x = tf.image.random_flip_left_right(x)\n",
        "  x = tf.image.random_flip_up_down(x)\n",
        "  x = x + 0.02*tf.random.normal(shape=(128,128,1))\n",
        "  return x, y"
      ],
      "execution_count": 0,
      "outputs": []
    },
    {
      "cell_type": "code",
      "metadata": {
        "id": "AKhiaatJ-Itg",
        "colab_type": "code",
        "colab": {}
      },
      "source": [
        "DATASET_SIZE = 20000\n",
        "BATCH_SIZE = 32\n",
        "\n",
        "train_size = int(0.8 * DATASET_SIZE)\n",
        "test_size = int(0.2 * DATASET_SIZE)\n",
        "\n",
        "full_dataset = dataset.map(redefine).map(downsample)\n",
        "\n",
        "train_dataset= full_dataset.take(train_size).repeat().map(augmentation).shuffle(buffer_size=2000).batch(BATCH_SIZE)\n",
        "test_dataset = full_dataset.skip(train_size).take(test_size).batch(BATCH_SIZE)"
      ],
      "execution_count": 0,
      "outputs": []
    },
    {
      "cell_type": "markdown",
      "metadata": {
        "id": "saUgxSdvUTXq",
        "colab_type": "text"
      },
      "source": [
        "### Let's define the neural network"
      ]
    },
    {
      "cell_type": "code",
      "metadata": {
        "id": "4dpp3CM9-sw6",
        "colab_type": "code",
        "colab": {}
      },
      "source": [
        "inputs = tf.keras.Input(shape=(128, 128, 1))\n",
        "resnet = tf.keras.applications.resnet_v2.ResNet50V2(include_top=False,\n",
        "                                                    weights=None,\n",
        "                                                    input_shape=[128,128,1],\n",
        "                                                    pooling='avg')\n",
        "net = resnet(inputs)\n",
        "outputs = tf.keras.layers.Dense(2)(net)"
      ],
      "execution_count": 0,
      "outputs": []
    },
    {
      "cell_type": "code",
      "metadata": {
        "id": "nuQjPA1_K0Ac",
        "colab_type": "code",
        "colab": {}
      },
      "source": [
        "model = tf.keras.Model(inputs, outputs)"
      ],
      "execution_count": 0,
      "outputs": []
    },
    {
      "cell_type": "code",
      "metadata": {
        "id": "MtQjeSmn_aq0",
        "colab_type": "code",
        "outputId": "8c35e9f8-36d5-49c5-9c13-4b21ea7deda4",
        "colab": {
          "base_uri": "https://localhost:8080/",
          "height": 255
        }
      },
      "source": [
        "model.summary()"
      ],
      "execution_count": 11,
      "outputs": [
        {
          "output_type": "stream",
          "text": [
            "Model: \"model\"\n",
            "_________________________________________________________________\n",
            "Layer (type)                 Output Shape              Param #   \n",
            "=================================================================\n",
            "input_1 (InputLayer)         [(None, 128, 128, 1)]     0         \n",
            "_________________________________________________________________\n",
            "resnet50v2 (Model)           (None, 2048)              23558528  \n",
            "_________________________________________________________________\n",
            "dense (Dense)                (None, 2)                 4098      \n",
            "=================================================================\n",
            "Total params: 23,562,626\n",
            "Trainable params: 23,517,186\n",
            "Non-trainable params: 45,440\n",
            "_________________________________________________________________\n"
          ],
          "name": "stdout"
        }
      ]
    },
    {
      "cell_type": "markdown",
      "metadata": {
        "id": "6nDmJBpAUY0e",
        "colab_type": "text"
      },
      "source": [
        "### Training"
      ]
    },
    {
      "cell_type": "code",
      "metadata": {
        "id": "UIbsxHO0_bAH",
        "colab_type": "code",
        "colab": {}
      },
      "source": [
        "model.compile(optimizer=tf.keras.optimizers.Adam(),loss='mse')   "
      ],
      "execution_count": 0,
      "outputs": []
    },
    {
      "cell_type": "code",
      "metadata": {
        "id": "n6789iClAA7z",
        "colab_type": "code",
        "outputId": "6f6415cc-cc1f-4dcf-b4aa-af544fb76aa5",
        "colab": {
          "base_uri": "https://localhost:8080/",
          "height": 119
        }
      },
      "source": [
        "history = model.fit(train_dataset, epochs=3, batch_size=BATCH_SIZE,\n",
        "                    validation_data=test_dataset, verbose=1, \n",
        "                    steps_per_epoch=int(0.8*20000/BATCH_SIZE)-1,\n",
        "                    validation_steps=2)"
      ],
      "execution_count": 43,
      "outputs": [
        {
          "output_type": "stream",
          "text": [
            "Epoch 1/3\n",
            "499/499 [==============================] - 105s 211ms/step - loss: 0.0146 - val_loss: 0.0156\n",
            "Epoch 2/3\n",
            "499/499 [==============================] - 133s 267ms/step - loss: 0.0145 - val_loss: 0.0138\n",
            "Epoch 3/3\n",
            "499/499 [==============================] - 179s 359ms/step - loss: 0.0144 - val_loss: 0.0136\n"
          ],
          "name": "stdout"
        }
      ]
    },
    {
      "cell_type": "code",
      "metadata": {
        "id": "jVDiW0IqZMLa",
        "colab_type": "code",
        "colab": {
          "base_uri": "https://localhost:8080/",
          "height": 34
        },
        "outputId": "4c86cf3f-2c27-4ba6-a450-9a17d85aafdf"
      },
      "source": [
        "truth = next(train_dataset.as_numpy_iterator()) \n",
        "print (truth[0].shape, truth[1].shape)"
      ],
      "execution_count": 44,
      "outputs": [
        {
          "output_type": "stream",
          "text": [
            "(32, 128, 128, 1) (32, 2)\n"
          ],
          "name": "stdout"
        }
      ]
    },
    {
      "cell_type": "code",
      "metadata": {
        "id": "QS3fKse3aF4i",
        "colab_type": "code",
        "colab": {}
      },
      "source": [
        "predictions = model.predict(x=truth[0])"
      ],
      "execution_count": 0,
      "outputs": []
    },
    {
      "cell_type": "code",
      "metadata": {
        "id": "Uu1bROyknRmB",
        "colab_type": "code",
        "colab": {}
      },
      "source": [
        "S8_gen= lambda params: sqrt(params.T[0]/0.3)*params.T[1]"
      ],
      "execution_count": 0,
      "outputs": []
    },
    {
      "cell_type": "code",
      "metadata": {
        "id": "boF6deZ2JL8h",
        "colab_type": "code",
        "colab": {
          "base_uri": "https://localhost:8080/",
          "height": 297
        },
        "outputId": "a863a61e-e48b-444a-cc1d-b79f67a2d6d9"
      },
      "source": [
        "params_pred = predictions\n",
        "params_input = truth[1]\n",
        "true_s8=S8_gen(params_input)\n",
        "pred_s8=S8_gen(np.array(params_pred))\n",
        "losses_train=history.history['loss']\n",
        "losses_val=history.history['val_loss']\n",
        "epocharr=history.epoch\n",
        "\n",
        "figure(figsize=(14,4))\n",
        "subplot(1,3,1)\n",
        "scatter(params_input.T[0], params_input.T[1],color='r', label='input')\n",
        "scatter(params_pred.T[0], params_pred.T[1],color='b', label='prediction')\n",
        "title('parameters')\n",
        "xlabel('om')\n",
        "ylabel('sigma8')\n",
        "legend(fontsize=10, frameon=1)\n",
        "subplot(1,3,2)\n",
        "scatter(true_s8, pred_s8, color='k')\n",
        "xlabel('input S8')\n",
        "ylabel('predicted S8')\n",
        "#ylim(0,1)\n",
        "title('comparison')\n",
        "subplot(1,3,3)\n",
        "plot(epocharr, losses_train,'-',label='loss (training)')\n",
        "plot(epocharr, losses_val, '--',label='loss (validation)')\n",
        "legend(fontsize=10, frameon=0)\n",
        "xlabel('epoch')\n",
        "ylabel('loss')\n",
        "# title('N_epoch={} stepsize={}'.format(epoch, step_size))\n",
        "plt.tight_layout()"
      ],
      "execution_count": 49,
      "outputs": [
        {
          "output_type": "display_data",
          "data": {
            "image/png": "[encoded data removed]",
            "text/plain": [
              "<Figure size 1008x288 with 3 Axes>"
            ]
          },
          "metadata": {
            "tags": [],
            "needs_background": "light"
          }
        }
      ]
    },
    {
      "cell_type": "code",
      "metadata": {
        "id": "6tI5Ar8Bo6tP",
        "colab_type": "code",
        "colab": {}
      },
      "source": [
        ""
      ],
      "execution_count": 0,
      "outputs": []
    }
  ]
}