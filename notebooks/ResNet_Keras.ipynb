{
  "nbformat": 4,
  "nbformat_minor": 0,
  "metadata": {
    "colab": {
      "name": "Demo_Keras_resnet.ipynb",
      "provenance": [],
      "machine_shape": "hm",
      "include_colab_link": true
    },
    "kernelspec": {
      "name": "python3",
      "display_name": "Python 3"
    },
    "accelerator": "GPU"
  },
  "cells": [
    {
      "cell_type": "markdown",
      "metadata": {
        "id": "view-in-github",
        "colab_type": "text"
      },
      "source": [
        "<a href=\"https://colab.research.google.com/github/liuxx479/Outlier/blob/master/notebooks/ResNet_Keras.ipynb\" target=\"_parent\"><img src=\"https://colab.research.google.com/assets/colab-badge.svg\" alt=\"Open In Colab\"/></a>"
      ]
    },
    {
      "cell_type": "markdown",
      "metadata": {
        "id": "JsLvqwCH0oKY",
        "colab_type": "text"
      },
      "source": [
        "# Short introduction to the Outlier package"
      ]
    },
    {
      "cell_type": "code",
      "metadata": {
        "id": "Q_pl_QMJ0lzK",
        "colab_type": "code",
        "outputId": "7c00a4f1-541e-48b4-e930-2a6a58067ada",
        "colab": {
          "base_uri": "https://localhost:8080/",
          "height": 122
        }
      },
      "source": [
        "%pylab inline\n",
        "import tensorflow as tf\n",
        "from tensorflow import keras\n",
        "from tensorflow.keras import layers\n",
        "%tensorflow_version 2.x\n",
        "import numpy as np\n",
        "import os\n",
        "import tensorflow_datasets as tfds\n",
        "\n",
        "!pip install --quiet git+https://github.com/liuxx479/Outlier.git\n",
        "from outlier.datasets import gaussian_convergence"
      ],
      "execution_count": 34,
      "outputs": [
        {
          "output_type": "stream",
          "text": [
            "Populating the interactive namespace from numpy and matplotlib\n"
          ],
          "name": "stdout"
        },
        {
          "output_type": "stream",
          "text": [
            "/usr/local/lib/python3.6/dist-packages/IPython/core/magics/pylab.py:161: UserWarning: pylab import has clobbered these variables: ['info', 'f']\n",
            "`%matplotlib` prevents importing * from pylab and numpy\n",
            "  \"\\n`%matplotlib` prevents importing * from pylab and numpy\"\n"
          ],
          "name": "stderr"
        },
        {
          "output_type": "stream",
          "text": [
            "  Building wheel for Outlier (setup.py) ... \u001b[?25l\u001b[?25hdone\n"
          ],
          "name": "stdout"
        }
      ]
    },
    {
      "cell_type": "code",
      "metadata": {
        "id": "n5eyLYK50HzR",
        "colab_type": "code",
        "outputId": "1f360eb3-1b76-416f-e40b-cc847b7ea876",
        "colab": {
          "base_uri": "https://localhost:8080/",
          "height": 34
        }
      },
      "source": [
        "from google.colab import drive\n",
        "drive.mount('/content/drive')\n",
        "\n",
        "root = '/content/drive/My Drive'\n",
        "data_path = os.path.join(root,'tensorflow_datasets/')\n",
        "model_path= os.path.join(root,'models/Keras')\n",
        "\n",
        "if not os.path.isdir(model_path):\n",
        "    os.makedirs(model_path)"
      ],
      "execution_count": 35,
      "outputs": [
        {
          "output_type": "stream",
          "text": [
            "Drive already mounted at /content/drive; to attempt to forcibly remount, call drive.mount(\"/content/drive\", force_remount=True).\n"
          ],
          "name": "stdout"
        }
      ]
    },
    {
      "cell_type": "code",
      "metadata": {
        "id": "XxUZqoPvG-Xv",
        "colab_type": "code",
        "colab": {}
      },
      "source": [
        "######## hyper parameters\n",
        "r_dropout = 0.2\n",
        "r_learn = 1e-4\n",
        "r_noise = 0\n",
        "crop = 0\n",
        "size_img = 64\n",
        "msg = '\\n downsample 128, no crop'## additional message to pass on to plotting title\n",
        "\n",
        "latest_file=None \n",
        "# latest_file=model_path+'/weights.50-0.020.hdf5'"
      ],
      "execution_count": 0,
      "outputs": []
    },
    {
      "cell_type": "code",
      "metadata": {
        "id": "Uu1bROyknRmB",
        "colab_type": "code",
        "colab": {}
      },
      "source": [
        "S8_gen= lambda params: sqrt(params.T[0]/0.3)*params.T[1]"
      ],
      "execution_count": 0,
      "outputs": []
    },
    {
      "cell_type": "code",
      "metadata": {
        "id": "W6o43ISO86tm",
        "colab_type": "code",
        "colab": {}
      },
      "source": [
        "VERSION = tfds.core.Version('0.1.0')\n",
        "dataset, info = tfds.load(name=\"gaussian_convergence\", download=0, split=\"train\", data_dir=data_path, with_info=True)"
      ],
      "execution_count": 0,
      "outputs": []
    },
    {
      "cell_type": "code",
      "metadata": {
        "id": "Hq3n6BRxS5RK",
        "colab_type": "code",
        "colab": {}
      },
      "source": [
        "## Implementing a simple resnet model\n",
        "def redefine(data):\n",
        "    x    = data['map'] \n",
        "    x    = tf.expand_dims(x,-1)\n",
        "    y    = data['params']\n",
        "    return x, y\n",
        "\n",
        "def downsample(x,y):\n",
        "    x    = tf.image.resize(x,[size_img,size_img])\n",
        "    return x, y\n",
        "  \n",
        "def augmentation(x, y):\n",
        "  if crop:\n",
        "    x = tf.image.random_crop(x, size=[size_img, size_img, 1]) \n",
        "  x = tf.image.random_flip_left_right(x)\n",
        "  x = tf.image.random_flip_up_down(x)\n",
        "  x = tf.image.rot90(x, k=randint(4)) \n",
        "  if r_noise: \n",
        "    x = x + r_noise*tf.random.normal(shape=(size_img,size_img,1))\n",
        "  return x, y"
      ],
      "execution_count": 0,
      "outputs": []
    },
    {
      "cell_type": "code",
      "metadata": {
        "id": "AKhiaatJ-Itg",
        "colab_type": "code",
        "colab": {}
      },
      "source": [
        "DATASET_SIZE = 20000\n",
        "BATCH_SIZE = 32*4\n",
        "\n",
        "train_size = int(0.8 * DATASET_SIZE)\n",
        "test_size = int(0.2 * DATASET_SIZE)\n",
        "\n",
        "full_dataset = dataset.map(redefine)\n",
        "if not crop:\n",
        "  full_dataset = full_dataset.map(downsample)\n",
        "\n",
        "train_dataset= full_dataset.take(train_size).repeat().map(augmentation).shuffle(buffer_size=2000).batch(BATCH_SIZE)\n",
        "test_dataset = full_dataset.skip(train_size).take(test_size).map(augmentation).batch(BATCH_SIZE)"
      ],
      "execution_count": 0,
      "outputs": []
    },
    {
      "cell_type": "markdown",
      "metadata": {
        "id": "saUgxSdvUTXq",
        "colab_type": "text"
      },
      "source": [
        "### Let's define the neural network"
      ]
    },
    {
      "cell_type": "code",
      "metadata": {
        "id": "4dpp3CM9-sw6",
        "colab_type": "code",
        "colab": {
          "base_uri": "https://localhost:8080/",
          "height": 289
        },
        "outputId": "63089c74-d97f-4d5c-dd24-a5e8bebc2cbc"
      },
      "source": [
        "inputs = tf.keras.Input(shape=(size_img, size_img, 1))\n",
        "resnet = tf.keras.applications.resnet_v2.ResNet50V2(include_top=False,\n",
        "                                                    weights=None,\n",
        "                                                    input_shape=[size_img,size_img,1],\n",
        "                                                    pooling='avg',\n",
        "              # classifier_activation=tf.keras.layers.LeakyReLU(alpha=0.3)\n",
        "              )\n",
        "net = resnet(inputs)\n",
        "if r_dropout:\n",
        "  net = tf.keras.layers.Dropout(r_dropout)(net)\n",
        "outputs = tf.keras.layers.Dense(2)(net)\n",
        "\n",
        "model = tf.keras.Model(inputs, outputs)\n",
        "model.summary()"
      ],
      "execution_count": 41,
      "outputs": [
        {
          "output_type": "stream",
          "text": [
            "Model: \"model_2\"\n",
            "_________________________________________________________________\n",
            "Layer (type)                 Output Shape              Param #   \n",
            "=================================================================\n",
            "input_5 (InputLayer)         [(None, 64, 64, 1)]       0         \n",
            "_________________________________________________________________\n",
            "resnet50v2 (Model)           (None, 2048)              23558528  \n",
            "_________________________________________________________________\n",
            "dropout_2 (Dropout)          (None, 2048)              0         \n",
            "_________________________________________________________________\n",
            "dense_2 (Dense)              (None, 2)                 4098      \n",
            "=================================================================\n",
            "Total params: 23,562,626\n",
            "Trainable params: 23,517,186\n",
            "Non-trainable params: 45,440\n",
            "_________________________________________________________________\n"
          ],
          "name": "stdout"
        }
      ]
    },
    {
      "cell_type": "code",
      "metadata": {
        "id": "DG8Qxei_ioVM",
        "colab_type": "code",
        "colab": {}
      },
      "source": [
        "# def newest(path):\n",
        "#     files = os.listdir(path)\n",
        "#     paths = [os.path.join(path, basename) for basename in files]\n",
        "#     try:\n",
        "#         return max(paths, key=os.path.getctime)\n",
        "#     except:\n",
        "#         return None\n",
        "\n",
        "# latest_file=newest(model_path)\n",
        "\n",
        "# print(latest_file)"
      ],
      "execution_count": 0,
      "outputs": []
    },
    {
      "cell_type": "markdown",
      "metadata": {
        "id": "6nDmJBpAUY0e",
        "colab_type": "text"
      },
      "source": [
        "### Training"
      ]
    },
    {
      "cell_type": "code",
      "metadata": {
        "id": "UIbsxHO0_bAH",
        "colab_type": "code",
        "colab": {
          "base_uri": "https://localhost:8080/",
          "height": 51
        },
        "outputId": "42f9abe9-24d2-4009-c2ce-c1bcb5d26f1f"
      },
      "source": [
        "checkpoint_file = os.path.join(model_path+'/weights.{epoch:02d}-{val_loss:.3f}.hdf5')\n",
        "ckpt_callback   = keras.callbacks.ModelCheckpoint(filepath=checkpoint_file, monitor='val_loss', mode='min', period=10, save_best_only=True)\n",
        "callbacks     = [ckpt_callback]\n",
        "\n",
        "if latest_file is None:\n",
        "  model.compile(optimizer=tf.keras.optimizers.Adam(learning_rate=1e-4),loss='mse')    \n",
        "else:\n",
        "  print(latest_file)\n",
        "  model = keras.models.load_model(latest_file)"
      ],
      "execution_count": 43,
      "outputs": [
        {
          "output_type": "stream",
          "text": [
            "WARNING:tensorflow:`period` argument is deprecated. Please use `save_freq` to specify the frequency in number of batches seen.\n"
          ],
          "name": "stdout"
        },
        {
          "output_type": "stream",
          "text": [
            "WARNING:tensorflow:`period` argument is deprecated. Please use `save_freq` to specify the frequency in number of batches seen.\n"
          ],
          "name": "stderr"
        }
      ]
    },
    {
      "cell_type": "code",
      "metadata": {
        "id": "n6789iClAA7z",
        "colab_type": "code",
        "outputId": "0013f356-4b41-41b0-a631-202b004786f0",
        "colab": {
          "base_uri": "https://localhost:8080/",
          "height": 1000
        }
      },
      "source": [
        "history = model.fit(train_dataset, epochs=50, batch_size=BATCH_SIZE,\n",
        "                    verbose=1, \n",
        "                    steps_per_epoch=int(train_size/BATCH_SIZE)-1,\n",
        "                    validation_data=test_dataset,validation_steps=6,\n",
        "                    callbacks=callbacks\n",
        "                    )"
      ],
      "execution_count": 44,
      "outputs": [
        {
          "output_type": "stream",
          "text": [
            "Epoch 1/50\n",
            "124/124 [==============================] - 26s 206ms/step - loss: 0.2526 - val_loss: 0.1007\n",
            "Epoch 2/50\n",
            "124/124 [==============================] - 26s 210ms/step - loss: 0.1527 - val_loss: 0.0244\n",
            "Epoch 3/50\n",
            "124/124 [==============================] - 26s 209ms/step - loss: 0.1221 - val_loss: 0.0510\n",
            "Epoch 4/50\n",
            "124/124 [==============================] - 25s 200ms/step - loss: 0.0998 - val_loss: 0.0206\n",
            "Epoch 5/50\n",
            "124/124 [==============================] - 25s 202ms/step - loss: 0.0847 - val_loss: 0.0221\n",
            "Epoch 6/50\n",
            "124/124 [==============================] - 25s 201ms/step - loss: 0.0724 - val_loss: 0.0187\n",
            "Epoch 7/50\n",
            "124/124 [==============================] - 25s 200ms/step - loss: 0.0631 - val_loss: 0.0145\n",
            "Epoch 8/50\n",
            "124/124 [==============================] - 26s 209ms/step - loss: 0.0510 - val_loss: 0.0159\n",
            "Epoch 9/50\n",
            "124/124 [==============================] - 25s 204ms/step - loss: 0.0482 - val_loss: 0.0146\n",
            "Epoch 10/50\n",
            "124/124 [==============================] - 27s 215ms/step - loss: 0.0424 - val_loss: 0.0224\n",
            "Epoch 11/50\n",
            "124/124 [==============================] - 25s 200ms/step - loss: 0.0369 - val_loss: 0.0235\n",
            "Epoch 12/50\n",
            "124/124 [==============================] - 25s 203ms/step - loss: 0.0334 - val_loss: 0.0184\n",
            "Epoch 13/50\n",
            "124/124 [==============================] - 26s 207ms/step - loss: 0.0297 - val_loss: 0.0152\n",
            "Epoch 14/50\n",
            "124/124 [==============================] - 26s 209ms/step - loss: 0.0283 - val_loss: 0.0160\n",
            "Epoch 15/50\n",
            "124/124 [==============================] - 25s 198ms/step - loss: 0.0252 - val_loss: 0.0147\n",
            "Epoch 16/50\n",
            "124/124 [==============================] - 24s 197ms/step - loss: 0.0226 - val_loss: 0.0157\n",
            "Epoch 17/50\n",
            "124/124 [==============================] - 24s 194ms/step - loss: 0.0211 - val_loss: 0.0143\n",
            "Epoch 18/50\n",
            "124/124 [==============================] - 25s 198ms/step - loss: 0.0210 - val_loss: 0.0166\n",
            "Epoch 19/50\n",
            "124/124 [==============================] - 26s 207ms/step - loss: 0.0204 - val_loss: 0.0142\n",
            "Epoch 20/50\n",
            "124/124 [==============================] - 28s 223ms/step - loss: 0.0182 - val_loss: 0.0178\n",
            "Epoch 21/50\n",
            "124/124 [==============================] - 25s 199ms/step - loss: 0.0178 - val_loss: 0.0148\n",
            "Epoch 22/50\n",
            "124/124 [==============================] - 24s 193ms/step - loss: 0.0171 - val_loss: 0.0169\n",
            "Epoch 23/50\n",
            "124/124 [==============================] - 25s 199ms/step - loss: 0.0161 - val_loss: 0.0152\n",
            "Epoch 24/50\n",
            "124/124 [==============================] - 25s 198ms/step - loss: 0.0159 - val_loss: 0.0162\n",
            "Epoch 25/50\n",
            "124/124 [==============================] - 25s 203ms/step - loss: 0.0154 - val_loss: 0.0143\n",
            "Epoch 26/50\n",
            "124/124 [==============================] - 25s 201ms/step - loss: 0.0151 - val_loss: 0.0180\n",
            "Epoch 27/50\n",
            "124/124 [==============================] - 25s 202ms/step - loss: 0.0147 - val_loss: 0.0147\n",
            "Epoch 28/50\n",
            "124/124 [==============================] - 25s 199ms/step - loss: 0.0145 - val_loss: 0.0184\n",
            "Epoch 29/50\n",
            "124/124 [==============================] - 25s 199ms/step - loss: 0.0141 - val_loss: 0.0154\n",
            "Epoch 30/50\n",
            "124/124 [==============================] - 25s 198ms/step - loss: 0.0139 - val_loss: 0.0196\n",
            "Epoch 31/50\n",
            "124/124 [==============================] - 26s 207ms/step - loss: 0.0137 - val_loss: 0.0161\n",
            "Epoch 32/50\n",
            "124/124 [==============================] - 25s 201ms/step - loss: 0.0130 - val_loss: 0.0174\n",
            "Epoch 33/50\n",
            "124/124 [==============================] - 25s 201ms/step - loss: 0.0128 - val_loss: 0.0173\n",
            "Epoch 34/50\n",
            "124/124 [==============================] - 25s 198ms/step - loss: 0.0125 - val_loss: 0.0206\n",
            "Epoch 35/50\n",
            "124/124 [==============================] - 24s 195ms/step - loss: 0.0121 - val_loss: 0.0189\n",
            "Epoch 36/50\n",
            "124/124 [==============================] - 24s 197ms/step - loss: 0.0119 - val_loss: 0.0204\n",
            "Epoch 37/50\n",
            "124/124 [==============================] - 24s 195ms/step - loss: 0.0117 - val_loss: 0.0431\n",
            "Epoch 38/50\n",
            "124/124 [==============================] - 25s 201ms/step - loss: 0.0115 - val_loss: 0.0265\n",
            "Epoch 39/50\n",
            "124/124 [==============================] - 25s 198ms/step - loss: 0.0110 - val_loss: 0.0206\n",
            "Epoch 40/50\n",
            "124/124 [==============================] - 25s 201ms/step - loss: 0.0107 - val_loss: 0.0328\n",
            "Epoch 41/50\n",
            "124/124 [==============================] - 24s 196ms/step - loss: 0.0103 - val_loss: 0.0222\n",
            "Epoch 42/50\n",
            "124/124 [==============================] - 25s 204ms/step - loss: 0.0100 - val_loss: 0.0274\n",
            "Epoch 43/50\n",
            "124/124 [==============================] - 25s 200ms/step - loss: 0.0101 - val_loss: 0.0658\n",
            "Epoch 44/50\n",
            "124/124 [==============================] - 24s 194ms/step - loss: 0.0096 - val_loss: 0.0529\n",
            "Epoch 45/50\n",
            "124/124 [==============================] - 24s 196ms/step - loss: 0.0094 - val_loss: 0.0346\n",
            "Epoch 46/50\n",
            "124/124 [==============================] - 25s 199ms/step - loss: 0.0094 - val_loss: 0.0875\n",
            "Epoch 47/50\n",
            "124/124 [==============================] - 24s 196ms/step - loss: 0.0104 - val_loss: 0.0630\n",
            "Epoch 48/50\n",
            "124/124 [==============================] - 25s 202ms/step - loss: 0.0098 - val_loss: 0.0297\n",
            "Epoch 49/50\n",
            "124/124 [==============================] - 25s 202ms/step - loss: 0.0094 - val_loss: 0.0174\n",
            "Epoch 50/50\n",
            "124/124 [==============================] - 25s 201ms/step - loss: 0.0094 - val_loss: 0.1304\n"
          ],
          "name": "stdout"
        }
      ]
    },
    {
      "cell_type": "code",
      "metadata": {
        "id": "boF6deZ2JL8h",
        "colab_type": "code",
        "outputId": "ac55987a-d12a-45dd-951b-485d03d92261",
        "colab": {
          "base_uri": "https://localhost:8080/",
          "height": 34
        }
      },
      "source": [
        "truth = next(train_dataset.as_numpy_iterator()) \n",
        "print (truth[0].shape, truth[1].shape)\n",
        "predictions = model.predict(x=truth[0])\n",
        "\n",
        "truth_valid = next(test_dataset.as_numpy_iterator())\n",
        "predictions_validation = model.predict(x=truth_valid[0])\n",
        "params_valid = truth_valid[1]\n",
        "\n",
        "params_pred = predictions\n",
        "params_input = truth[1]\n",
        "true_s8=S8_gen(params_input)\n",
        "pred_s8=S8_gen(np.array(params_pred))\n",
        "\n",
        "true_s8_valid=S8_gen(params_valid)\n",
        "pred_s8_valid=S8_gen(np.array(predictions_validation))\n",
        "\n",
        "losses_train=history.history['loss']\n",
        "losses_val=history.history['val_loss']\n",
        "epocharr=history.epoch"
      ],
      "execution_count": 45,
      "outputs": [
        {
          "output_type": "stream",
          "text": [
            "(128, 64, 64, 1) (128, 2)\n"
          ],
          "name": "stdout"
        }
      ]
    },
    {
      "cell_type": "code",
      "metadata": {
        "id": "6tI5Ar8Bo6tP",
        "colab_type": "code",
        "colab": {
          "base_uri": "https://localhost:8080/",
          "height": 297
        },
        "outputId": "8897b474-0605-4a09-e0cc-11c471d8d024"
      },
      "source": [
        "f, (ax1, ax2, ax3)=subplots(1,3, figsize=(14,4))\n",
        "\n",
        "ax1.scatter(params_input.T[0], params_input.T[1],color='r', label='input')\n",
        "ax1.scatter(params_pred.T[0], params_pred.T[1],color='b', label='prediction')\n",
        "ax1.set_title('parameters (training)')\n",
        "ax1.set_xlabel('om')\n",
        "ax1.set_ylabel('sigma8')\n",
        "ax1.legend(fontsize=10, frameon=1)\n",
        "# ax1.set_xlim(0.05,0.5)\n",
        "# ax1.set_ylim(0.5,1.)\n",
        "\n",
        "ax2.scatter(true_s8, pred_s8, color='k',label='training')\n",
        "ax2.scatter(true_s8_valid, pred_s8_valid, color='orange',label='validation')\n",
        "ax2.plot([0.4, 1.2], [0.4, 1.2], '--')\n",
        "ax2.legend(fontsize=10, frameon=1)\n",
        "ax2.set_xlabel('input S8')\n",
        "ax2.set_ylabel('predicted S8')\n",
        "# ax2.set_ylim(0.2,1.2)\n",
        "# ax2.set_xlim(0.2,1.2)\n",
        "ax2.set_title('comparison')\n",
        "\n",
        "ax3.plot(epocharr, losses_train,'-',label='loss (training)')\n",
        "ax3.plot(epocharr, losses_val, '--',label='loss (validation)')\n",
        "ax3.legend(fontsize=10, frameon=0)\n",
        "ax3.set_xlabel('epoch')\n",
        "ax3.set_ylabel('loss')\n",
        "ax3.set_title('learn={0}, dropout={1}, noise={2}, {3}'.format(r_learn, r_dropout, r_noise, msg))\n",
        "ax3.set_yscale('log')\n",
        "plt.tight_layout()"
      ],
      "execution_count": 51,
      "outputs": [
        {
          "output_type": "display_data",
          "data": {
            "image/png": "[encoded data removed]",
            "text/plain": [
              "<Figure size 1008x288 with 3 Axes>"
            ]
          },
          "metadata": {
            "tags": [],
            "needs_background": "light"
          }
        }
      ]
    },
    {
      "cell_type": "code",
      "metadata": {
        "id": "Y6QLhL5eTIwI",
        "colab_type": "code",
        "colab": {}
      },
      "source": [
        ""
      ],
      "execution_count": 0,
      "outputs": []
    }
  ]
}