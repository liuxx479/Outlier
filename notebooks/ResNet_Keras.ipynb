{
  "nbformat": 4,
  "nbformat_minor": 0,
  "metadata": {
    "colab": {
      "name": "Demo_Keras_resnet.ipynb",
      "provenance": [],
      "include_colab_link": true
    },
    "kernelspec": {
      "name": "python3",
      "display_name": "Python 3"
    },
    "accelerator": "GPU"
  },
  "cells": [
    {
      "cell_type": "markdown",
      "metadata": {
        "id": "view-in-github",
        "colab_type": "text"
      },
      "source": [
        "<a href=\"https://colab.research.google.com/github/liuxx479/Outlier/blob/master/notebooks/ResNet_Keras.ipynb\" target=\"_parent\"><img src=\"https://colab.research.google.com/assets/colab-badge.svg\" alt=\"Open In Colab\"/></a>"
      ]
    },
    {
      "cell_type": "markdown",
      "metadata": {
        "id": "JsLvqwCH0oKY",
        "colab_type": "text"
      },
      "source": [
        "# Short introduction to the Outlier package"
      ]
    },
    {
      "cell_type": "code",
      "metadata": {
        "id": "Q_pl_QMJ0lzK",
        "colab_type": "code",
        "outputId": "7a14d437-753c-458b-b695-c4b42e2a46c2",
        "colab": {
          "base_uri": "https://localhost:8080/",
          "height": 34
        }
      },
      "source": [
        "%pylab inline\n",
        "import tensorflow as tf\n",
        "from tensorflow import keras\n",
        "from tensorflow.keras import layers\n",
        "import numpy as np\n",
        "import os"
      ],
      "execution_count": 1,
      "outputs": [
        {
          "output_type": "stream",
          "text": [
            "Populating the interactive namespace from numpy and matplotlib\n"
          ],
          "name": "stdout"
        }
      ]
    },
    {
      "cell_type": "code",
      "metadata": {
        "id": "pHDxNNay8WNN",
        "colab_type": "code",
        "colab": {
          "base_uri": "https://localhost:8080/",
          "height": 34
        },
        "outputId": "240e0401-e586-4208-ad04-5d63b0ef4466"
      },
      "source": [
        "!pip install --quiet git+https://github.com/liuxx479/Outlier.git\n",
        "from outlier.datasets import gaussian_convergence"
      ],
      "execution_count": 2,
      "outputs": [
        {
          "output_type": "stream",
          "text": [
            "  Building wheel for Outlier (setup.py) ... \u001b[?25l\u001b[?25hdone\n"
          ],
          "name": "stdout"
        }
      ]
    },
    {
      "cell_type": "code",
      "metadata": {
        "id": "jEJ90blE0BfP",
        "colab_type": "code",
        "outputId": "dbc43fea-2c17-4bf8-e82e-389a86e694f7",
        "colab": {
          "base_uri": "https://localhost:8080/",
          "height": 34
        }
      },
      "source": [
        "%tensorflow_version 2.x\n",
        "%pylab inline\n",
        "import tensorflow_datasets as tfds\n",
        "from outlier.datasets import gaussian_convergence"
      ],
      "execution_count": 4,
      "outputs": [
        {
          "output_type": "stream",
          "text": [
            "Populating the interactive namespace from numpy and matplotlib\n"
          ],
          "name": "stdout"
        }
      ]
    },
    {
      "cell_type": "code",
      "metadata": {
        "id": "n5eyLYK50HzR",
        "colab_type": "code",
        "outputId": "1a6c3986-6ed8-4316-86fd-66c527dac504",
        "colab": {
          "base_uri": "https://localhost:8080/",
          "height": 122
        }
      },
      "source": [
        "from google.colab import drive\n",
        "drive.mount('/content/drive')\n",
        "\n",
        "root = '/content/drive/My Drive'\n",
        "data_path = os.path.join(root,'tensorflow_datasets/')\n",
        "model_path= os.path.join(root,'models/Keras')\n",
        "\n",
        "if not os.path.isdir(model_path):\n",
        "    os.makedirs(model_path)"
      ],
      "execution_count": 5,
      "outputs": [
        {
          "output_type": "stream",
          "text": [
            "Go to this URL in a browser: https://accounts.google.com/o/oauth2/auth?client_id=947318989803-6bn6qk8qdgf4n4g3pfee6491hc0brc4i.apps.googleusercontent.com&redirect_uri=urn%3aietf%3awg%3aoauth%3a2.0%3aoob&response_type=code&scope=email%20https%3a%2f%2fwww.googleapis.com%2fauth%2fdocs.test%20https%3a%2f%2fwww.googleapis.com%2fauth%2fdrive%20https%3a%2f%2fwww.googleapis.com%2fauth%2fdrive.photos.readonly%20https%3a%2f%2fwww.googleapis.com%2fauth%2fpeopleapi.readonly\n",
            "\n",
            "Enter your authorization code:\n",
            "··········\n",
            "Mounted at /content/drive\n"
          ],
          "name": "stdout"
        }
      ]
    },
    {
      "cell_type": "code",
      "metadata": {
        "id": "W6o43ISO86tm",
        "colab_type": "code",
        "colab": {}
      },
      "source": [
        "VERSION = tfds.core.Version('0.1.0')\n",
        "dataset, info = tfds.load(name=\"gaussian_convergence\", download=0, split=\"train\", data_dir=data_path, with_info=True)"
      ],
      "execution_count": 0,
      "outputs": []
    },
    {
      "cell_type": "code",
      "metadata": {
        "id": "Hq3n6BRxS5RK",
        "colab_type": "code",
        "colab": {}
      },
      "source": [
        "## Implementing a simple resnet model\n",
        "def redefine(data):\n",
        "    x    = data['map'] \n",
        "    x    = tf.expand_dims(x,-1)\n",
        "    y    = data['params']\n",
        "    return x, y\n",
        "\n",
        "def downsample(x,y):\n",
        "    x    = tf.image.resize(x,[128,128])\n",
        "    return x, y\n",
        "  \n",
        "def augmentation(x, y):\n",
        "  x = tf.image.random_flip_left_right(x)\n",
        "  x = tf.image.random_flip_up_down(x)\n",
        "  x = x + 0.02*tf.random.normal(shape=(128,128,1))\n",
        "  return x, y"
      ],
      "execution_count": 0,
      "outputs": []
    },
    {
      "cell_type": "code",
      "metadata": {
        "id": "AKhiaatJ-Itg",
        "colab_type": "code",
        "colab": {}
      },
      "source": [
        "DATASET_SIZE = 20000\n",
        "BATCH_SIZE = 32\n",
        "\n",
        "train_size = int(0.8 * DATASET_SIZE)\n",
        "test_size = int(0.2 * DATASET_SIZE)\n",
        "\n",
        "full_dataset = dataset.map(redefine).map(downsample)\n",
        "\n",
        "train_dataset= full_dataset.take(train_size).repeat().map(augmentation).shuffle(buffer_size=2000).batch(BATCH_SIZE)\n",
        "test_dataset = full_dataset.skip(train_size).take(test_size).batch(BATCH_SIZE)"
      ],
      "execution_count": 0,
      "outputs": []
    },
    {
      "cell_type": "markdown",
      "metadata": {
        "id": "saUgxSdvUTXq",
        "colab_type": "text"
      },
      "source": [
        "### Let's define the neural network"
      ]
    },
    {
      "cell_type": "code",
      "metadata": {
        "id": "4dpp3CM9-sw6",
        "colab_type": "code",
        "colab": {}
      },
      "source": [
        "inputs = tf.keras.Input(shape=(128, 128, 1))\n",
        "resnet = tf.keras.applications.resnet_v2.ResNet50V2(include_top=False,\n",
        "                                                    weights=None,\n",
        "                                                    input_shape=[128,128,1],\n",
        "                                                    pooling='avg')\n",
        "net = resnet(inputs)\n",
        "outputs = tf.keras.layers.Dense(2)(net)"
      ],
      "execution_count": 0,
      "outputs": []
    },
    {
      "cell_type": "code",
      "metadata": {
        "id": "nuQjPA1_K0Ac",
        "colab_type": "code",
        "colab": {}
      },
      "source": [
        "model = tf.keras.Model(inputs, outputs)"
      ],
      "execution_count": 0,
      "outputs": []
    },
    {
      "cell_type": "code",
      "metadata": {
        "id": "MtQjeSmn_aq0",
        "colab_type": "code",
        "outputId": "8c35e9f8-36d5-49c5-9c13-4b21ea7deda4",
        "colab": {
          "base_uri": "https://localhost:8080/",
          "height": 255
        }
      },
      "source": [
        "model.summary()"
      ],
      "execution_count": 11,
      "outputs": [
        {
          "output_type": "stream",
          "text": [
            "Model: \"model\"\n",
            "_________________________________________________________________\n",
            "Layer (type)                 Output Shape              Param #   \n",
            "=================================================================\n",
            "input_1 (InputLayer)         [(None, 128, 128, 1)]     0         \n",
            "_________________________________________________________________\n",
            "resnet50v2 (Model)           (None, 2048)              23558528  \n",
            "_________________________________________________________________\n",
            "dense (Dense)                (None, 2)                 4098      \n",
            "=================================================================\n",
            "Total params: 23,562,626\n",
            "Trainable params: 23,517,186\n",
            "Non-trainable params: 45,440\n",
            "_________________________________________________________________\n"
          ],
          "name": "stdout"
        }
      ]
    },
    {
      "cell_type": "markdown",
      "metadata": {
        "id": "6nDmJBpAUY0e",
        "colab_type": "text"
      },
      "source": [
        "### Training"
      ]
    },
    {
      "cell_type": "code",
      "metadata": {
        "id": "UIbsxHO0_bAH",
        "colab_type": "code",
        "colab": {}
      },
      "source": [
        "model.compile(optimizer=tf.keras.optimizers.Adam(),loss='mse')   "
      ],
      "execution_count": 0,
      "outputs": []
    },
    {
      "cell_type": "code",
      "metadata": {
        "id": "n6789iClAA7z",
        "colab_type": "code",
        "outputId": "f3f1d340-b759-452e-ba89-1eb782174247",
        "colab": {
          "base_uri": "https://localhost:8080/",
          "height": 1000
        }
      },
      "source": [
        "history = model.fit(train_dataset, epochs=50, batch_size=BATCH_SIZE,\n",
        "                    validation_data=test_dataset, verbose=1, \n",
        "                    steps_per_epoch=int(0.8*20000/BATCH_SIZE)-1,\n",
        "                    validation_steps=2)"
      ],
      "execution_count": 13,
      "outputs": [
        {
          "output_type": "stream",
          "text": [
            "Epoch 1/50\n",
            "499/499 [==============================] - 206s 413ms/step - loss: 0.1547 - val_loss: 0.0185\n",
            "Epoch 2/50\n",
            "499/499 [==============================] - 176s 353ms/step - loss: 0.0170 - val_loss: 0.0194\n",
            "Epoch 3/50\n",
            "499/499 [==============================] - 177s 354ms/step - loss: 0.0172 - val_loss: 0.0278\n",
            "Epoch 4/50\n",
            "499/499 [==============================] - 184s 368ms/step - loss: 0.0164 - val_loss: 0.0467\n",
            "Epoch 5/50\n",
            "499/499 [==============================] - 168s 336ms/step - loss: 0.0175 - val_loss: 0.0201\n",
            "Epoch 6/50\n",
            "499/499 [==============================] - 148s 296ms/step - loss: 0.0167 - val_loss: 0.0265\n",
            "Epoch 7/50\n",
            "499/499 [==============================] - 184s 370ms/step - loss: 0.0174 - val_loss: 0.0130\n",
            "Epoch 8/50\n",
            "499/499 [==============================] - 158s 316ms/step - loss: 0.0157 - val_loss: 0.0201\n",
            "Epoch 9/50\n",
            "499/499 [==============================] - 169s 338ms/step - loss: 0.0160 - val_loss: 0.0360\n",
            "Epoch 10/50\n",
            "499/499 [==============================] - 178s 357ms/step - loss: 0.0156 - val_loss: 0.0192\n",
            "Epoch 11/50\n",
            "499/499 [==============================] - 143s 286ms/step - loss: 0.0154 - val_loss: 0.0542\n",
            "Epoch 12/50\n",
            "499/499 [==============================] - 194s 389ms/step - loss: 0.0164 - val_loss: 0.0131\n",
            "Epoch 13/50\n",
            "499/499 [==============================] - 177s 354ms/step - loss: 0.0163 - val_loss: 0.0504\n",
            "Epoch 14/50\n",
            "499/499 [==============================] - 132s 264ms/step - loss: 0.0155 - val_loss: 0.0226\n",
            "Epoch 15/50\n",
            "499/499 [==============================] - 179s 359ms/step - loss: 0.0156 - val_loss: 0.0321\n",
            "Epoch 16/50\n",
            "499/499 [==============================] - 157s 314ms/step - loss: 0.0156 - val_loss: 0.0395\n",
            "Epoch 17/50\n",
            "499/499 [==============================] - 187s 374ms/step - loss: 0.0159 - val_loss: 0.0164\n",
            "Epoch 18/50\n",
            "499/499 [==============================] - 170s 341ms/step - loss: 0.0159 - val_loss: 0.0162\n",
            "Epoch 19/50\n",
            "499/499 [==============================] - 163s 327ms/step - loss: 0.0154 - val_loss: 0.0157\n",
            "Epoch 20/50\n",
            "499/499 [==============================] - 182s 364ms/step - loss: 0.0160 - val_loss: 0.0159\n",
            "Epoch 21/50\n",
            "499/499 [==============================] - 135s 271ms/step - loss: 0.0157 - val_loss: 0.0179\n",
            "Epoch 22/50\n",
            "499/499 [==============================] - 192s 385ms/step - loss: 0.0156 - val_loss: 0.0148\n",
            "Epoch 23/50\n",
            "499/499 [==============================] - 184s 369ms/step - loss: 0.0148 - val_loss: 0.0197\n",
            "Epoch 24/50\n",
            "499/499 [==============================] - 181s 362ms/step - loss: 0.0159 - val_loss: 0.0330\n",
            "Epoch 25/50\n",
            "499/499 [==============================] - 186s 373ms/step - loss: 0.0162 - val_loss: 0.0136\n",
            "Epoch 26/50\n",
            "499/499 [==============================] - 180s 361ms/step - loss: 0.0153 - val_loss: 0.0158\n",
            "Epoch 27/50\n",
            "499/499 [==============================] - 172s 344ms/step - loss: 0.0153 - val_loss: 0.0222\n",
            "Epoch 28/50\n",
            "499/499 [==============================] - 177s 355ms/step - loss: 0.0152 - val_loss: 0.0179\n",
            "Epoch 29/50\n",
            "499/499 [==============================] - 185s 370ms/step - loss: 0.0150 - val_loss: 0.0146\n",
            "Epoch 30/50\n",
            "499/499 [==============================] - 179s 359ms/step - loss: 0.0150 - val_loss: 0.0153\n",
            "Epoch 31/50\n",
            "499/499 [==============================] - 176s 353ms/step - loss: 0.0148 - val_loss: 0.0186\n",
            "Epoch 32/50\n",
            "499/499 [==============================] - 180s 362ms/step - loss: 0.0152 - val_loss: 0.0132\n",
            "Epoch 33/50\n",
            "499/499 [==============================] - 160s 321ms/step - loss: 0.0152 - val_loss: 0.0137\n",
            "Epoch 34/50\n",
            "499/499 [==============================] - 130s 260ms/step - loss: 0.0149 - val_loss: 0.0200\n",
            "Epoch 35/50\n",
            "499/499 [==============================] - 161s 323ms/step - loss: 0.0149 - val_loss: 0.0131\n",
            "Epoch 36/50\n",
            "499/499 [==============================] - 185s 371ms/step - loss: 0.0149 - val_loss: 0.0190\n",
            "Epoch 37/50\n",
            "499/499 [==============================] - 185s 371ms/step - loss: 0.0155 - val_loss: 0.0207\n",
            "Epoch 38/50\n",
            "499/499 [==============================] - 151s 302ms/step - loss: 0.0154 - val_loss: 0.0148\n",
            "Epoch 39/50\n",
            "499/499 [==============================] - 172s 345ms/step - loss: 0.0149 - val_loss: 0.0134\n",
            "Epoch 40/50\n",
            "499/499 [==============================] - 174s 348ms/step - loss: 0.0149 - val_loss: 0.0180\n",
            "Epoch 41/50\n",
            "499/499 [==============================] - 163s 326ms/step - loss: 0.0149 - val_loss: 0.0127\n",
            "Epoch 42/50\n",
            "499/499 [==============================] - 177s 355ms/step - loss: 0.0149 - val_loss: 0.0137\n",
            "Epoch 43/50\n",
            "499/499 [==============================] - 160s 321ms/step - loss: 0.0146 - val_loss: 0.0148\n",
            "Epoch 44/50\n",
            "499/499 [==============================] - 159s 318ms/step - loss: 0.0145 - val_loss: 0.0153\n",
            "Epoch 45/50\n",
            "499/499 [==============================] - 170s 341ms/step - loss: 0.0146 - val_loss: 0.0211\n",
            "Epoch 46/50\n",
            "499/499 [==============================] - 182s 365ms/step - loss: 0.0145 - val_loss: 0.0134\n",
            "Epoch 47/50\n",
            "499/499 [==============================] - 123s 246ms/step - loss: 0.0146 - val_loss: 0.0148\n",
            "Epoch 48/50\n",
            "499/499 [==============================] - 183s 367ms/step - loss: 0.0146 - val_loss: 0.0180\n",
            "Epoch 49/50\n",
            "499/499 [==============================] - 195s 390ms/step - loss: 0.0149 - val_loss: 0.0136\n",
            "Epoch 50/50\n",
            "499/499 [==============================] - 194s 388ms/step - loss: 0.0143 - val_loss: 0.0156\n"
          ],
          "name": "stdout"
        }
      ]
    },
    {
      "cell_type": "code",
      "metadata": {
        "id": "jVDiW0IqZMLa",
        "colab_type": "code",
        "colab": {
          "base_uri": "https://localhost:8080/",
          "height": 34
        },
        "outputId": "4b7fc284-728a-4d65-bb0e-ad98bd107fde"
      },
      "source": [
        "truth = next(train_dataset.as_numpy_iterator()) \n",
        "print (truth[0].shape, truth[1].shape)"
      ],
      "execution_count": 15,
      "outputs": [
        {
          "output_type": "stream",
          "text": [
            "(32, 128, 128, 1) (32, 2)\n"
          ],
          "name": "stdout"
        }
      ]
    },
    {
      "cell_type": "code",
      "metadata": {
        "id": "QS3fKse3aF4i",
        "colab_type": "code",
        "colab": {}
      },
      "source": [
        "predictions = model.predict(x=truth[0])"
      ],
      "execution_count": 0,
      "outputs": []
    },
    {
      "cell_type": "code",
      "metadata": {
        "id": "Uu1bROyknRmB",
        "colab_type": "code",
        "colab": {}
      },
      "source": [
        "S8_gen= lambda params: sqrt(params.T[0]/0.3)*params.T[1]"
      ],
      "execution_count": 0,
      "outputs": []
    },
    {
      "cell_type": "code",
      "metadata": {
        "id": "6adpFCYEaF88",
        "colab_type": "code",
        "outputId": "8fef46a4-30e5-41f1-a842-30b272d373e9",
        "colab": {
          "base_uri": "https://localhost:8080/",
          "height": 282
        }
      },
      "source": [
        "scatter(truth[1][:,1], predictions[:,1],color='r',s=1)"
      ],
      "execution_count": 17,
      "outputs": [
        {
          "output_type": "execute_result",
          "data": {
            "text/plain": [
              "<matplotlib.collections.PathCollection at 0x7fc47f03b9e8>"
            ]
          },
          "metadata": {
            "tags": []
          },
          "execution_count": 17
        },
        {
          "output_type": "display_data",
          "data": {
            "image/png": "[encoded data removed]",
            "text/plain": [
              "<Figure size 432x288 with 1 Axes>"
            ]
          },
          "metadata": {
            "tags": [],
            "needs_background": "light"
          }
        }
      ]
    },
    {
      "cell_type": "code",
      "metadata": {
        "id": "tK2HHp7DaF1E",
        "colab_type": "code",
        "outputId": "8baa0582-592d-4b77-f835-a2d9d3a63c85",
        "colab": {
          "base_uri": "https://localhost:8080/",
          "height": 282
        }
      },
      "source": [
        "scatter(truth[1][:,0], predictions[:,0],color='r',s=1)"
      ],
      "execution_count": 18,
      "outputs": [
        {
          "output_type": "execute_result",
          "data": {
            "text/plain": [
              "<matplotlib.collections.PathCollection at 0x7fc47eb10470>"
            ]
          },
          "metadata": {
            "tags": []
          },
          "execution_count": 18
        },
        {
          "output_type": "display_data",
          "data": {
            "image/png": "[encoded data removed]",
            "text/plain": [
              "<Figure size 432x288 with 1 Axes>"
            ]
          },
          "metadata": {
            "tags": [],
            "needs_background": "light"
          }
        }
      ]
    },
    {
      "cell_type": "code",
      "metadata": {
        "id": "boF6deZ2JL8h",
        "colab_type": "code",
        "colab": {
          "base_uri": "https://localhost:8080/",
          "height": 297
        },
        "outputId": "820d1ec2-4d67-414c-db72-b15deecfb8dc"
      },
      "source": [
        "params_pred = predictions\n",
        "params_input = truth[1]\n",
        "true_s8=S8_gen(params_input)\n",
        "pred_s8=S8_gen(np.array(params_pred))\n",
        "losses_train=history.history['loss']\n",
        "losses_val=history.history['val_loss']\n",
        "epocharr=history.epoch\n",
        "\n",
        "figure(figsize=(14,4))\n",
        "subplot(1,3,1)\n",
        "scatter(params_input.T[0], params_input.T[1],color='r', label='input')\n",
        "scatter(params_pred.T[0], params_pred.T[1],color='b', label='prediction')\n",
        "title('parameters')\n",
        "xlabel('om')\n",
        "ylabel('sigma8')\n",
        "legend(fontsize=10, frameon=1)\n",
        "subplot(1,3,2)\n",
        "scatter(true_s8, pred_s8, color='k')\n",
        "xlabel('input S8')\n",
        "ylabel('predicted S8')\n",
        "#ylim(0,1)\n",
        "title('comparison')\n",
        "subplot(1,3,3)\n",
        "plot(epocharr, losses_train,'-',label='loss (training)')\n",
        "plot(epocharr, losses_val, '--',label='loss (validation)')\n",
        "legend(fontsize=10, frameon=0)\n",
        "xlabel('epoch')\n",
        "ylabel('loss')\n",
        "# title('N_epoch={} stepsize={}'.format(epoch, step_size))\n",
        "plt.tight_layout()"
      ],
      "execution_count": 41,
      "outputs": [
        {
          "output_type": "display_data",
          "data": {
            "image/png": "[encoded data removed]",
            "text/plain": [
              "<Figure size 1008x288 with 3 Axes>"
            ]
          },
          "metadata": {
            "tags": [],
            "needs_background": "light"
          }
        }
      ]
    },
    {
      "cell_type": "code",
      "metadata": {
        "id": "6tI5Ar8Bo6tP",
        "colab_type": "code",
        "colab": {}
      },
      "source": [
        ""
      ],
      "execution_count": 0,
      "outputs": []
    }
  ]
}