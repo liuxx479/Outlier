{
  "nbformat": 4,
  "nbformat_minor": 0,
  "metadata": {
    "colab": {
      "name": "Demo_Keras_resnet.ipynb",
      "provenance": [],
      "include_colab_link": true
    },
    "kernelspec": {
      "name": "python3",
      "display_name": "Python 3"
    },
    "accelerator": "GPU"
  },
  "cells": [
    {
      "cell_type": "markdown",
      "metadata": {
        "id": "view-in-github",
        "colab_type": "text"
      },
      "source": [
        "<a href=\"https://colab.research.google.com/github/liuxx479/Outlier/blob/master/notebooks/ResNet_Keras.ipynb\" target=\"_parent\"><img src=\"https://colab.research.google.com/assets/colab-badge.svg\" alt=\"Open In Colab\"/></a>"
      ]
    },
    {
      "cell_type": "markdown",
      "metadata": {
        "id": "JsLvqwCH0oKY",
        "colab_type": "text"
      },
      "source": [
        "# Short introduction to the Outlier package"
      ]
    },
    {
      "cell_type": "code",
      "metadata": {
        "id": "Q_pl_QMJ0lzK",
        "colab_type": "code",
        "outputId": "c2cdc61b-d39a-4671-9a20-6c08e6d32c70",
        "colab": {
          "base_uri": "https://localhost:8080/",
          "height": 105
        }
      },
      "source": [
        "%pylab inline\n",
        "import tensorflow as tf\n",
        "from tensorflow import keras\n",
        "from tensorflow.keras import layers\n",
        "import numpy as np\n",
        "import os"
      ],
      "execution_count": 43,
      "outputs": [
        {
          "output_type": "stream",
          "text": [
            "Populating the interactive namespace from numpy and matplotlib\n"
          ],
          "name": "stdout"
        },
        {
          "output_type": "stream",
          "text": [
            "/usr/local/lib/python3.6/dist-packages/IPython/core/magics/pylab.py:161: UserWarning: pylab import has clobbered these variables: ['info']\n",
            "`%matplotlib` prevents importing * from pylab and numpy\n",
            "  \"\\n`%matplotlib` prevents importing * from pylab and numpy\"\n"
          ],
          "name": "stderr"
        }
      ]
    },
    {
      "cell_type": "code",
      "metadata": {
        "id": "pHDxNNay8WNN",
        "colab_type": "code",
        "outputId": "1378ecd6-7635-4a56-8834-04fbeacf61eb",
        "colab": {
          "base_uri": "https://localhost:8080/",
          "height": 34
        }
      },
      "source": [
        "!pip install --quiet git+https://github.com/liuxx479/Outlier.git\n",
        "from outlier.datasets import gaussian_convergence"
      ],
      "execution_count": 44,
      "outputs": [
        {
          "output_type": "stream",
          "text": [
            "  Building wheel for Outlier (setup.py) ... \u001b[?25l\u001b[?25hdone\n"
          ],
          "name": "stdout"
        }
      ]
    },
    {
      "cell_type": "code",
      "metadata": {
        "id": "jEJ90blE0BfP",
        "colab_type": "code",
        "outputId": "43de148f-4fcc-4c0d-92dc-6522779c4849",
        "colab": {
          "base_uri": "https://localhost:8080/",
          "height": 34
        }
      },
      "source": [
        "%tensorflow_version 2.x\n",
        "%pylab inline\n",
        "import tensorflow_datasets as tfds\n",
        "from outlier.datasets import gaussian_convergence"
      ],
      "execution_count": 45,
      "outputs": [
        {
          "output_type": "stream",
          "text": [
            "Populating the interactive namespace from numpy and matplotlib\n"
          ],
          "name": "stdout"
        }
      ]
    },
    {
      "cell_type": "code",
      "metadata": {
        "id": "n5eyLYK50HzR",
        "colab_type": "code",
        "outputId": "4ea9f1fc-1b1b-4f12-ff30-f5a1bf649347",
        "colab": {
          "base_uri": "https://localhost:8080/",
          "height": 54
        }
      },
      "source": [
        "from google.colab import drive\n",
        "drive.mount('/content/drive')\n",
        "\n",
        "root = '/content/drive/My Drive'\n",
        "data_path = os.path.join(root,'tensorflow_datasets/')\n",
        "model_path= os.path.join(root,'models/Keras')\n",
        "\n",
        "if not os.path.isdir(model_path):\n",
        "    os.makedirs(model_path)"
      ],
      "execution_count": 46,
      "outputs": [
        {
          "output_type": "stream",
          "text": [
            "Drive already mounted at /content/drive; to attempt to forcibly remount, call drive.mount(\"/content/drive\", force_remount=True).\n"
          ],
          "name": "stdout"
        }
      ]
    },
    {
      "cell_type": "code",
      "metadata": {
        "id": "Uu1bROyknRmB",
        "colab_type": "code",
        "colab": {}
      },
      "source": [
        "S8_gen= lambda params: sqrt(params.T[0]/0.3)*params.T[1]"
      ],
      "execution_count": 0,
      "outputs": []
    },
    {
      "cell_type": "code",
      "metadata": {
        "id": "W6o43ISO86tm",
        "colab_type": "code",
        "colab": {}
      },
      "source": [
        "VERSION = tfds.core.Version('0.1.0')\n",
        "dataset, info = tfds.load(name=\"gaussian_convergence\", download=0, split=\"train\", data_dir=data_path, with_info=True)"
      ],
      "execution_count": 0,
      "outputs": []
    },
    {
      "cell_type": "code",
      "metadata": {
        "id": "Hq3n6BRxS5RK",
        "colab_type": "code",
        "colab": {}
      },
      "source": [
        "## Implementing a simple resnet model\n",
        "def redefine(data):\n",
        "    x    = data['map'] \n",
        "    x    = tf.expand_dims(x,-1)\n",
        "    y    = data['params']\n",
        "    return x, y\n",
        "\n",
        "def downsample(x,y):\n",
        "    x    = tf.image.resize(x,[128,128])\n",
        "    return x, y\n",
        "  \n",
        "def augmentation(x, y):\n",
        "  x = tf.image.random_flip_left_right(x)\n",
        "  x = tf.image.random_flip_up_down(x)\n",
        "  # x = x + 0.02*tf.random.normal(shape=(128,128,1))\n",
        "  return x, y"
      ],
      "execution_count": 0,
      "outputs": []
    },
    {
      "cell_type": "code",
      "metadata": {
        "id": "AKhiaatJ-Itg",
        "colab_type": "code",
        "colab": {}
      },
      "source": [
        "DATASET_SIZE = 20000\n",
        "BATCH_SIZE = 32*4\n",
        "\n",
        "train_size = int(0.8 * DATASET_SIZE)\n",
        "test_size = int(0.2 * DATASET_SIZE)\n",
        "\n",
        "full_dataset = dataset.map(redefine).map(downsample)\n",
        "\n",
        "train_dataset= full_dataset.take(train_size).repeat().map(augmentation).shuffle(buffer_size=2000).batch(BATCH_SIZE)\n",
        "test_dataset = full_dataset.skip(train_size).take(test_size).map(augmentation).batch(BATCH_SIZE)"
      ],
      "execution_count": 0,
      "outputs": []
    },
    {
      "cell_type": "markdown",
      "metadata": {
        "id": "saUgxSdvUTXq",
        "colab_type": "text"
      },
      "source": [
        "### Let's define the neural network"
      ]
    },
    {
      "cell_type": "code",
      "metadata": {
        "id": "4dpp3CM9-sw6",
        "colab_type": "code",
        "colab": {}
      },
      "source": [
        "inputs = tf.keras.Input(shape=(128, 128, 1))\n",
        "resnet = tf.keras.applications.resnet_v2.ResNet50V2(include_top=False,\n",
        "                                                    weights=None,\n",
        "                                                    input_shape=[128,128,1],\n",
        "                                                    pooling='avg',\n",
        "              # classifier_activation=tf.keras.layers.LeakyReLU(alpha=0.3)\n",
        "              )\n",
        "net = resnet(inputs)\n",
        "outputs = tf.keras.layers.Dense(2)(net)"
      ],
      "execution_count": 0,
      "outputs": []
    },
    {
      "cell_type": "code",
      "metadata": {
        "id": "nuQjPA1_K0Ac",
        "colab_type": "code",
        "colab": {}
      },
      "source": [
        "model = tf.keras.Model(inputs, outputs)"
      ],
      "execution_count": 0,
      "outputs": []
    },
    {
      "cell_type": "code",
      "metadata": {
        "id": "MtQjeSmn_aq0",
        "colab_type": "code",
        "outputId": "bea1ccee-19ac-4205-df48-0c6358f6ea67",
        "colab": {
          "base_uri": "https://localhost:8080/",
          "height": 255
        }
      },
      "source": [
        "model.summary()"
      ],
      "execution_count": 76,
      "outputs": [
        {
          "output_type": "stream",
          "text": [
            "Model: \"model_5\"\n",
            "_________________________________________________________________\n",
            "Layer (type)                 Output Shape              Param #   \n",
            "=================================================================\n",
            "input_21 (InputLayer)        [(None, 128, 128, 1)]     0         \n",
            "_________________________________________________________________\n",
            "resnet50v2 (Model)           (None, 2048)              23558528  \n",
            "_________________________________________________________________\n",
            "dense_10 (Dense)             (None, 2)                 4098      \n",
            "=================================================================\n",
            "Total params: 23,562,626\n",
            "Trainable params: 23,517,186\n",
            "Non-trainable params: 45,440\n",
            "_________________________________________________________________\n"
          ],
          "name": "stdout"
        }
      ]
    },
    {
      "cell_type": "markdown",
      "metadata": {
        "id": "6nDmJBpAUY0e",
        "colab_type": "text"
      },
      "source": [
        "### Training"
      ]
    },
    {
      "cell_type": "code",
      "metadata": {
        "id": "UIbsxHO0_bAH",
        "colab_type": "code",
        "colab": {}
      },
      "source": [
        "model.compile(optimizer=tf.keras.optimizers.Adam(learning_rate==),loss='mse')   "
      ],
      "execution_count": 0,
      "outputs": []
    },
    {
      "cell_type": "code",
      "metadata": {
        "id": "n6789iClAA7z",
        "colab_type": "code",
        "outputId": "96e934be-294c-4c13-aabc-44ca1fe46880",
        "colab": {
          "base_uri": "https://localhost:8080/",
          "height": 1000
        }
      },
      "source": [
        "history = model.fit(train_dataset, epochs=50, batch_size=BATCH_SIZE,\n",
        "                     verbose=1, \n",
        "                    steps_per_epoch=int(0.8*20000/BATCH_SIZE)-1\n",
        "                    )#validation_data=test_dataset,validation_steps=2"
      ],
      "execution_count": 78,
      "outputs": [
        {
          "output_type": "stream",
          "text": [
            "Epoch 1/50\n",
            "124/124 [==============================] - 32s 256ms/step - loss: 0.1498\n",
            "Epoch 2/50\n",
            "124/124 [==============================] - 32s 256ms/step - loss: 0.0273\n",
            "Epoch 3/50\n",
            "124/124 [==============================] - 32s 255ms/step - loss: 0.0251\n",
            "Epoch 4/50\n",
            "124/124 [==============================] - 32s 257ms/step - loss: 0.0224\n",
            "Epoch 5/50\n",
            "124/124 [==============================] - 32s 255ms/step - loss: 0.0201\n",
            "Epoch 6/50\n",
            "124/124 [==============================] - 32s 257ms/step - loss: 0.0193\n",
            "Epoch 7/50\n",
            "124/124 [==============================] - 32s 258ms/step - loss: 0.0181\n",
            "Epoch 8/50\n",
            "124/124 [==============================] - 32s 257ms/step - loss: 0.0170\n",
            "Epoch 9/50\n",
            "124/124 [==============================] - 32s 258ms/step - loss: 0.0155\n",
            "Epoch 10/50\n",
            "124/124 [==============================] - 32s 259ms/step - loss: 0.0149\n",
            "Epoch 11/50\n",
            "124/124 [==============================] - 32s 258ms/step - loss: 0.0146\n",
            "Epoch 12/50\n",
            "124/124 [==============================] - 32s 259ms/step - loss: 0.0138\n",
            "Epoch 13/50\n",
            "124/124 [==============================] - 32s 260ms/step - loss: 0.0131\n",
            "Epoch 14/50\n",
            "124/124 [==============================] - 32s 254ms/step - loss: 0.0126\n",
            "Epoch 15/50\n",
            "124/124 [==============================] - 32s 257ms/step - loss: 0.0123\n",
            "Epoch 16/50\n",
            "124/124 [==============================] - 31s 252ms/step - loss: 0.0115\n",
            "Epoch 17/50\n",
            "124/124 [==============================] - 31s 253ms/step - loss: 0.0116\n",
            "Epoch 18/50\n",
            "124/124 [==============================] - 32s 257ms/step - loss: 0.0110\n",
            "Epoch 19/50\n",
            "124/124 [==============================] - 32s 259ms/step - loss: 0.0109\n",
            "Epoch 20/50\n",
            "124/124 [==============================] - 32s 259ms/step - loss: 0.0108\n",
            "Epoch 21/50\n",
            "124/124 [==============================] - 32s 258ms/step - loss: 0.0106\n",
            "Epoch 22/50\n",
            "124/124 [==============================] - 32s 256ms/step - loss: 0.0106\n",
            "Epoch 23/50\n",
            "124/124 [==============================] - 32s 259ms/step - loss: 0.0103\n",
            "Epoch 24/50\n",
            "124/124 [==============================] - 32s 261ms/step - loss: 0.0101\n",
            "Epoch 25/50\n",
            "124/124 [==============================] - 34s 274ms/step - loss: 0.0101\n",
            "Epoch 26/50\n",
            "124/124 [==============================] - 34s 271ms/step - loss: 0.0100\n",
            "Epoch 27/50\n",
            "124/124 [==============================] - 34s 278ms/step - loss: 0.0097\n",
            "Epoch 28/50\n",
            "124/124 [==============================] - 34s 274ms/step - loss: 0.0096\n",
            "Epoch 29/50\n",
            "124/124 [==============================] - 35s 280ms/step - loss: 0.0098\n",
            "Epoch 30/50\n",
            "124/124 [==============================] - 33s 267ms/step - loss: 0.0097\n",
            "Epoch 31/50\n",
            "124/124 [==============================] - 32s 255ms/step - loss: 0.0098\n",
            "Epoch 32/50\n",
            "124/124 [==============================] - 34s 272ms/step - loss: 0.0094\n",
            "Epoch 33/50\n",
            "124/124 [==============================] - 32s 256ms/step - loss: 0.0096\n",
            "Epoch 34/50\n",
            "124/124 [==============================] - 34s 273ms/step - loss: 0.0092\n",
            "Epoch 35/50\n",
            "124/124 [==============================] - 34s 276ms/step - loss: 0.0090\n",
            "Epoch 36/50\n",
            "124/124 [==============================] - 35s 280ms/step - loss: 0.0089\n",
            "Epoch 37/50\n",
            "124/124 [==============================] - 32s 257ms/step - loss: 0.0085\n",
            "Epoch 38/50\n",
            "124/124 [==============================] - 33s 265ms/step - loss: 0.0087\n",
            "Epoch 39/50\n",
            "124/124 [==============================] - 33s 264ms/step - loss: 0.0085\n",
            "Epoch 40/50\n",
            "124/124 [==============================] - 32s 256ms/step - loss: 0.0087\n",
            "Epoch 41/50\n",
            "124/124 [==============================] - 33s 265ms/step - loss: 0.0083\n",
            "Epoch 42/50\n",
            "124/124 [==============================] - 32s 256ms/step - loss: 0.0081\n",
            "Epoch 43/50\n",
            "124/124 [==============================] - 32s 259ms/step - loss: 0.0080\n",
            "Epoch 44/50\n",
            "124/124 [==============================] - 32s 260ms/step - loss: 0.0078\n",
            "Epoch 45/50\n",
            "124/124 [==============================] - 31s 251ms/step - loss: 0.0078\n",
            "Epoch 46/50\n",
            "124/124 [==============================] - 33s 268ms/step - loss: 0.0077\n",
            "Epoch 47/50\n",
            "124/124 [==============================] - 35s 281ms/step - loss: 0.0074\n",
            "Epoch 48/50\n",
            "124/124 [==============================] - 34s 273ms/step - loss: 0.0072\n",
            "Epoch 49/50\n",
            "124/124 [==============================] - 34s 273ms/step - loss: 0.0071\n",
            "Epoch 50/50\n",
            "124/124 [==============================] - 33s 263ms/step - loss: 0.0070\n"
          ],
          "name": "stdout"
        }
      ]
    },
    {
      "cell_type": "code",
      "metadata": {
        "id": "boF6deZ2JL8h",
        "colab_type": "code",
        "outputId": "b7d1e4f7-4637-43e8-9642-a94eee6a6e30",
        "colab": {
          "base_uri": "https://localhost:8080/",
          "height": 314
        }
      },
      "source": [
        "truth = next(train_dataset.as_numpy_iterator()) \n",
        "print (truth[0].shape, truth[1].shape)\n",
        "predictions = model.predict(x=truth[0])\n",
        "\n",
        "\n",
        "params_pred = predictions\n",
        "params_input = truth[1]\n",
        "true_s8=S8_gen(params_input)\n",
        "pred_s8=S8_gen(np.array(params_pred))\n",
        "losses_train=history.history['loss']\n",
        "# losses_val=history.history['val_loss']\n",
        "epocharr=history.epoch\n",
        "\n",
        "figure(figsize=(14,4))\n",
        "subplot(1,3,1)\n",
        "scatter(params_input.T[0], params_input.T[1],color='r', label='input')\n",
        "scatter(params_pred.T[0], params_pred.T[1],color='b', label='prediction')\n",
        "title('parameters')\n",
        "xlabel('om')\n",
        "ylabel('sigma8')\n",
        "legend(fontsize=10, frameon=1)\n",
        "subplot(1,3,2)\n",
        "scatter(true_s8, pred_s8, color='k')\n",
        "xlabel('input S8')\n",
        "ylabel('predicted S8')\n",
        "#ylim(0,1)\n",
        "title('comparison')\n",
        "subplot(1,3,3)\n",
        "plot(epocharr, losses_train,'-',label='loss (training)')\n",
        "# plot(epocharr, losses_val, '--',label='loss (validation)')\n",
        "legend(fontsize=10, frameon=0)\n",
        "xlabel('epoch')\n",
        "ylabel('loss')\n",
        "title('learning rate 1e-4, no noise')\n",
        "plt.tight_layout()"
      ],
      "execution_count": 79,
      "outputs": [
        {
          "output_type": "stream",
          "text": [
            "(128, 128, 128, 1) (128, 2)\n"
          ],
          "name": "stdout"
        },
        {
          "output_type": "display_data",
          "data": {
            "image/png": "[encoded data removed]",
            "text/plain": [
              "<Figure size 1008x288 with 3 Axes>"
            ]
          },
          "metadata": {
            "tags": [],
            "needs_background": "light"
          }
        }
      ]
    },
    {
      "cell_type": "code",
      "metadata": {
        "id": "6tI5Ar8Bo6tP",
        "colab_type": "code",
        "colab": {}
      },
      "source": [
        ""
      ],
      "execution_count": 0,
      "outputs": []
    }
  ]
}