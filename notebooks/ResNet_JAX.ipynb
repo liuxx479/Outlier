{
  "nbformat": 4,
  "nbformat_minor": 0,
  "metadata": {
    "colab": {
      "name": "train-neural-network.ipynb",
      "provenance": [],
      "machine_shape": "hm",
      "authorship_tag": "ABX9TyPJPhxthCbPe2sfaEEb5WQn",
      "include_colab_link": true
    },
    "kernelspec": {
      "name": "python3",
      "display_name": "Python 3"
    },
    "accelerator": "GPU"
  },
  "cells": [
    {
      "cell_type": "markdown",
      "metadata": {
        "id": "view-in-github",
        "colab_type": "text"
      },
      "source": [
        "<a href=\"https://colab.research.google.com/github/liuxx479/Outlier/blob/master/notebooks/ResNet_JAX.ipynb\" target=\"_parent\"><img src=\"https://colab.research.google.com/assets/colab-badge.svg\" alt=\"Open In Colab\"/></a>"
      ]
    },
    {
      "cell_type": "code",
      "metadata": {
        "id": "hiUibhYRCet3",
        "colab_type": "code",
        "outputId": "9327680b-5917-4e7f-fb12-cca81b2e3e46",
        "colab": {
          "base_uri": "https://localhost:8080/",
          "height": 122
        }
      },
      "source": [
        "from __future__ import print_function, division, absolute_import\n",
        "\n",
        "import numpy.random as npr\n",
        "import os\n",
        "import tensorflow as tf\n",
        "\n",
        "import jax.numpy as np\n",
        "from jax import jit, grad, random, vmap\n",
        "from jax.config import config\n",
        "from jax.experimental import optimizers\n",
        "from jax.experimental import stax\n",
        "from jax.experimental.stax import (AvgPool, BatchNorm, Conv, Dense, FanInSum,\n",
        "                                   FanOut, Flatten, GeneralConv, Identity,\n",
        "                                   MaxPool, Relu, LogSoftmax)\n",
        "\n",
        "\n",
        "%tensorflow_version 2.x\n",
        "%pylab inline\n",
        "import tensorflow_datasets as tfds\n",
        "\n",
        "!pip install --quiet git+https://github.com/liuxx479/Outlier.git\n",
        "from outlier.datasets import gaussian_convergence\n",
        "\n",
        "\n",
        "########### JL note: mostly following https://colab.research.google.com/github/google/jax/blob/master/docs/notebooks/neural_network_with_tfds_data.ipynb\n",
        "########### https://github.com/google/jax/blob/master/examples/resnet50.py"
      ],
      "execution_count": 1,
      "outputs": [
        {
          "output_type": "stream",
          "text": [
            "Populating the interactive namespace from numpy and matplotlib\n"
          ],
          "name": "stdout"
        },
        {
          "output_type": "stream",
          "text": [
            "/usr/local/lib/python3.6/dist-packages/IPython/core/magics/pylab.py:161: UserWarning: pylab import has clobbered these variables: ['np', 'random']\n",
            "`%matplotlib` prevents importing * from pylab and numpy\n",
            "  \"\\n`%matplotlib` prevents importing * from pylab and numpy\"\n"
          ],
          "name": "stderr"
        },
        {
          "output_type": "stream",
          "text": [
            "  Building wheel for Outlier (setup.py) ... \u001b[?25l\u001b[?25hdone\n"
          ],
          "name": "stdout"
        }
      ]
    },
    {
      "cell_type": "code",
      "metadata": {
        "id": "VYH51ZKJU7d3",
        "colab_type": "code",
        "outputId": "6169b268-1159-4623-ac27-65495f79834b",
        "colab": {
          "base_uri": "https://localhost:8080/",
          "height": 122
        }
      },
      "source": [
        "######### mount google drive file\n",
        "from google.colab import drive\n",
        "drive.mount('/content/drive')\n",
        "\n",
        "root = '/content/drive/My Drive'\n",
        "data_path = os.path.join(root,'tensorflow_datasets/')\n",
        "model_path= os.path.join(root,'models/')\n",
        "\n",
        "if not os.path.isdir(model_path):\n",
        "    os.makedirs(model_path)"
      ],
      "execution_count": 2,
      "outputs": [
        {
          "output_type": "stream",
          "text": [
            "Go to this URL in a browser: https://accounts.google.com/o/oauth2/auth?client_id=947318989803-6bn6qk8qdgf4n4g3pfee6491hc0brc4i.apps.googleusercontent.com&redirect_uri=urn%3aietf%3awg%3aoauth%3a2.0%3aoob&response_type=code&scope=email%20https%3a%2f%2fwww.googleapis.com%2fauth%2fdocs.test%20https%3a%2f%2fwww.googleapis.com%2fauth%2fdrive%20https%3a%2f%2fwww.googleapis.com%2fauth%2fdrive.photos.readonly%20https%3a%2f%2fwww.googleapis.com%2fauth%2fpeopleapi.readonly\n",
            "\n",
            "Enter your authorization code:\n",
            "··········\n",
            "Mounted at /content/drive\n"
          ],
          "name": "stdout"
        }
      ]
    },
    {
      "cell_type": "code",
      "metadata": {
        "id": "PZHqV3oFXM0u",
        "colab_type": "code",
        "colab": {}
      },
      "source": [
        "########## load data from gdrive, if need to downlaod again, set download=1\n",
        "VERSION = tfds.core.Version('0.1.0')\n",
        "dataset, info = tfds.load(name=\"gaussian_convergence\", download=0, split=\"train\", data_dir=data_path, with_info=True)"
      ],
      "execution_count": 0,
      "outputs": []
    },
    {
      "cell_type": "code",
      "metadata": {
        "id": "zginT0txXOjF",
        "colab_type": "code",
        "outputId": "007913f0-1ea9-4615-8099-d7b33b8ee94e",
        "colab": {
          "base_uri": "https://localhost:8080/",
          "height": 34
        }
      },
      "source": [
        "print ('data size:',info.splits['train'].num_examples)\n",
        "data_size=info.splits['train'].num_examples"
      ],
      "execution_count": 4,
      "outputs": [
        {
          "output_type": "stream",
          "text": [
            "data size: 20000\n"
          ],
          "name": "stdout"
        }
      ]
    },
    {
      "cell_type": "code",
      "metadata": {
        "id": "-xwVxsWfVP2F",
        "colab_type": "code",
        "colab": {}
      },
      "source": [
        "# for example in dataset.take(1):  #take 1 for test\n",
        "#   kappa_map, params = example[\"map\"], example[\"params\"]\n",
        "#   imshow(kappa_map)\n",
        "#   print(params)"
      ],
      "execution_count": 0,
      "outputs": []
    },
    {
      "cell_type": "code",
      "metadata": {
        "id": "bPron-dAF0Vx",
        "colab_type": "code",
        "colab": {}
      },
      "source": [
        "S8_gen= lambda params: np.sqrt(params.T[0]/0.3)*params.T[1]"
      ],
      "execution_count": 0,
      "outputs": []
    },
    {
      "cell_type": "code",
      "metadata": {
        "id": "3Nx6qUOoxkgl",
        "colab_type": "code",
        "colab": {}
      },
      "source": [
        "############ JL: resnet architecture, mostly unchanged, other than removed bunch of idensity matrices\n",
        "\n",
        "def ConvBlock(kernel_size, filters, strides=(2, 2)):\n",
        "  ks = kernel_size\n",
        "  filters1, filters2, filters3 = filters\n",
        "  Main = stax.serial(\n",
        "      Conv(filters1, (1, 1), strides), BatchNorm(), Relu,\n",
        "      Conv(filters2, (ks, ks), padding='SAME'), BatchNorm(), Relu,\n",
        "      Conv(filters3, (1, 1)), BatchNorm())\n",
        "  Shortcut = stax.serial(Conv(filters3, (1, 1), strides), BatchNorm())\n",
        "  return stax.serial(FanOut(2), stax.parallel(Main, Shortcut), FanInSum, Relu)\n",
        "\n",
        "def IdentityBlock(kernel_size, filters):\n",
        "  ks = kernel_size\n",
        "  filters1, filters2 = filters\n",
        "  def make_main(input_shape):\n",
        "    # the number of output channels depends on the number of input channels\n",
        "    return stax.serial(\n",
        "        Conv(filters1, (1, 1)), BatchNorm(), Relu,\n",
        "        Conv(filters2, (ks, ks), padding='SAME'), BatchNorm(), Relu,\n",
        "        Conv(input_shape[3], (1, 1)), BatchNorm())\n",
        "  Main = stax.shape_dependent(make_main)\n",
        "  return stax.serial(FanOut(2), stax.parallel(Main, Identity), FanInSum, Relu)\n",
        "\n",
        "# ResNet architectures compose layers and ResNet blocks\n",
        "# def ResNet50(num_classes):\n",
        "#   ########## JL to do: maybe remove some IdentityBlocks..\n",
        "#   return stax.serial(\n",
        "#       GeneralConv(('HWCN', 'OIHW', 'NHWC'), 64, (7, 7), (2, 2), 'SAME'),\n",
        "#       BatchNorm(), \n",
        "#       Relu, \n",
        "#       MaxPool((3, 3), strides=(2, 2)),\n",
        "#       ConvBlock(3, [64, 64, 256], strides=(1, 1)),\n",
        "#       IdentityBlock(3, [64, 64]),\n",
        "#       IdentityBlock(3, [64, 64]),\n",
        "#       # ConvBlock(3, [128, 128, 512]),\n",
        "#       # IdentityBlock(3, [128, 128]),\n",
        "#       # IdentityBlock(3, [128, 128]),\n",
        "#       # IdentityBlock(3, [128, 128]),\n",
        "#       ConvBlock(3, [256, 256, 1024]),\n",
        "#       IdentityBlock(3, [256, 256]),\n",
        "#       # IdentityBlock(3, [256, 256]),\n",
        "#       # IdentityBlock(3, [256, 256]),\n",
        "#       # IdentityBlock(3, [256, 256]),\n",
        "#       # IdentityBlock(3, [256, 256]),\n",
        "#       ConvBlock(3, [512, 512, 2048]),\n",
        "#       # IdentityBlock(3, [512, 512]),\n",
        "#       IdentityBlock(3, [512, 512]),\n",
        "#       # AvgPool((7, 7)), \n",
        "#       AvgPool((16, 16)), \n",
        "#       Flatten, \n",
        "#       Dense(num_classes))"
      ],
      "execution_count": 0,
      "outputs": []
    },
    {
      "cell_type": "code",
      "metadata": {
        "id": "CCp6LM4EriQq",
        "colab_type": "code",
        "colab": {}
      },
      "source": [
        "def ResNet50(num_classes):\n",
        "  ########## JL to do: maybe remove some IdentityBlocks..\n",
        "  return stax.serial(\n",
        "      GeneralConv(('HWCN', 'OIHW', 'NHWC'), 64, (7, 7), (2, 2), 'SAME'),\n",
        "      BatchNorm(), \n",
        "      Relu, \n",
        "      MaxPool((3, 3), strides=(2, 2)),\n",
        "      ConvBlock(3, [64, 64, 256], strides=(1, 1)),\n",
        "      IdentityBlock(3, [64, 64]),\n",
        "      IdentityBlock(3, [64, 64]),\n",
        "      # ConvBlock(3, [128, 128, 512]),\n",
        "      # IdentityBlock(3, [128, 128]),\n",
        "      # IdentityBlock(3, [128, 128]),\n",
        "      # IdentityBlock(3, [128, 128]),\n",
        "      # ConvBlock(3, [256, 256, 1024]),\n",
        "      # IdentityBlock(3, [256, 256]),\n",
        "      # IdentityBlock(3, [256, 256]),\n",
        "      # IdentityBlock(3, [256, 256]),\n",
        "      # IdentityBlock(3, [256, 256]),\n",
        "      # IdentityBlock(3, [256, 256]),\n",
        "      # ConvBlock(3, [512, 512, 2048]),\n",
        "      # IdentityBlock(3, [512, 512]),\n",
        "      # IdentityBlock(3, [512, 512]),\n",
        "      # AvgPool((7, 7)), \n",
        "      AvgPool((64, 64)), \n",
        "      Flatten, \n",
        "      Dense(num_classes))"
      ],
      "execution_count": 0,
      "outputs": []
    },
    {
      "cell_type": "code",
      "metadata": {
        "id": "mGQO8HzF1Dt7",
        "colab_type": "code",
        "colab": {}
      },
      "source": [
        "from jax import random\n",
        "rng_key = random.PRNGKey(0)"
      ],
      "execution_count": 0,
      "outputs": []
    },
    {
      "cell_type": "code",
      "metadata": {
        "id": "6SsrmV6paRoL",
        "colab_type": "code",
        "colab": {}
      },
      "source": [
        "########### model saving hack from: https://github.com/google/jax/issues/2116\n",
        "from jax.tree_util import pytree\n",
        "import pickle\n",
        "from pathlib import Path\n",
        "from typing import Union\n",
        "\n",
        "suffix = '.pickle'\n",
        "\n",
        "def savemodel(data: pytree, path: Union[str, Path], overwrite: bool = False):\n",
        "    path = Path(path)\n",
        "    if path.suffix != suffix:\n",
        "        path = path.with_suffix(suffix)\n",
        "    path.parent.mkdir(parents=True, exist_ok=True)\n",
        "    if path.exists():\n",
        "        if overwrite:\n",
        "            path.unlink()\n",
        "        else:\n",
        "            raise RuntimeError(f'File {path} already exists.')\n",
        "    with open(path, 'wb') as file:\n",
        "        pickle.dump(data, file)\n",
        "\n",
        "\n",
        "def loadmodel(path: Union[str, Path]) -> pytree:\n",
        "    path = Path(path)\n",
        "    if not path.is_file():\n",
        "        raise ValueError(f'Not a file: {path}')\n",
        "    if path.suffix != suffix:\n",
        "        raise ValueError(f'Not a {suffix} file: {path}')\n",
        "    with open(path, 'rb') as file:\n",
        "        data = pickle.load(file)\n",
        "    return data"
      ],
      "execution_count": 0,
      "outputs": []
    },
    {
      "cell_type": "code",
      "metadata": {
        "id": "K06x5xl_3Mw3",
        "colab_type": "code",
        "colab": {}
      },
      "source": [
        "####### prepare training sets\n",
        "\n",
        "batch_size = 64 ### number of maps per batch\n",
        "valid_size = 128 #int(0.1*data_size)\n",
        "test_size = int(0.1*data_size)\n",
        "train_size = data_size - valid_size -test_size #int(0.8*data_size)\n",
        "\n",
        "dataset.shuffle(1000)\n",
        "valid_batch = dataset.take(valid_size).batch(valid_size)\n",
        "test_batch = dataset.skip(valid_size).take(test_size).batch(test_size)\n",
        "train_batch = dataset.skip(valid_size+test_size).repeat().batch(batch_size)\n",
        "\n",
        "def preprocess(dataset, augment=1):\n",
        "  images=dataset['map']\n",
        "  images=tf.transpose(images, (1,2,0)) ##### move the batch size to last axis\n",
        "  # print ('preproess shape', images.numpy().shape)\n",
        "  if augment:\n",
        "    images=tf.image.random_flip_left_right(images)\n",
        "    images=tf.image.random_flip_up_down(images)\n",
        "    images=tf.image.rot90(images, k=randint(4)) #### rotate an image in a random angle\n",
        "  images=tf.expand_dims(images,-2) ## expand the dimension to include channel\n",
        "  # print ('post processing shape',images.numpy().shape)\n",
        "  return images.numpy(), dataset['params'].numpy()\n",
        "\n",
        "for itest in valid_batch:\n",
        "  valid_batch = preprocess(itest, augment=0)\n",
        "  valid_maps, params_valid = valid_batch\n",
        "for itest in test_batch:\n",
        "  test_batch = preprocess(itest, augment=0)\n",
        "  test_maps, params_test = test_batch"
      ],
      "execution_count": 0,
      "outputs": []
    },
    {
      "cell_type": "code",
      "metadata": {
        "id": "k6-ZXGhyjwmq",
        "colab_type": "code",
        "colab": {}
      },
      "source": [
        "############ JL: batch generator\n",
        "def synth_batches():\n",
        "  for ibatch in train_batch:\n",
        "    yield preprocess(ibatch)\n",
        "\n",
        "batches = synth_batches()"
      ],
      "execution_count": 0,
      "outputs": []
    },
    {
      "cell_type": "code",
      "metadata": {
        "id": "RdO_WMWAIYRI",
        "colab_type": "code",
        "outputId": "7900162b-745e-42e5-caad-95e0abefcb3a",
        "colab": {
          "base_uri": "https://localhost:8080/",
          "height": 68
        }
      },
      "source": [
        "print (test_maps.shape, params_test.shape)\n",
        "print (valid_maps.shape, params_valid.shape)\n",
        "itrain_batch  = next(batches)\n",
        "print (itrain_batch[0].shape, itrain_batch[1].shape)"
      ],
      "execution_count": 13,
      "outputs": [
        {
          "output_type": "stream",
          "text": [
            "(256, 256, 1, 2000) (2000, 2)\n",
            "(256, 256, 1, 128) (128, 2)\n",
            "(256, 256, 1, 64) (64, 2)\n"
          ],
          "name": "stdout"
        }
      ]
    },
    {
      "cell_type": "code",
      "metadata": {
        "id": "w359K7IaLuU3",
        "colab_type": "code",
        "colab": {}
      },
      "source": [
        "def loss_L2(params, batch):\n",
        "  kappa_map, params_true = batch\n",
        "  params_pred = predict_fun(params, kappa_map)\n",
        "  #out1 = np.sum((S8_gen(params_pred) - S8_gen(params_true))**2) ## controls S8\n",
        "  out2 = np.mean((params_pred - params_true)**2)\n",
        "  return out2\n",
        "\n",
        "  \n",
        "def loss_cov(params, batch):\n",
        "  kappa_map, params_true = batch\n",
        "  batch_size = len(params_true)\n",
        "  params_pred = predict_fun(params, kappa_map)\n",
        "  x, y = (params_pred[:,:2]-params_true).T\n",
        "  ######## covariance\n",
        "  A, B, AB = params_pred.T[2:]\n",
        "  ######## invert the matrix\n",
        "  inorm=1.0/(A*B-AB**2)\n",
        "  a = inorm*B\n",
        "  b = inorm*A\n",
        "  ab = -inorm*AB\n",
        "  out=sum(x*(x*a+y*ab) + y*(x*ab+y*b))\n",
        "  return out"
      ],
      "execution_count": 0,
      "outputs": []
    },
    {
      "cell_type": "code",
      "metadata": {
        "id": "ZhtGSHyHQgdU",
        "colab_type": "code",
        "outputId": "5d2f3796-ad0c-49d8-fe5b-3bc501ec3f9b",
        "colab": {
          "base_uri": "https://localhost:8080/",
          "height": 1000
        }
      },
      "source": [
        "############# JL: training\n",
        "\n",
        "num_classes = 2 ## 2 parameters, 5 for including covariance\n",
        "input_shape = (256, 256, 1, batch_size)\n",
        "num_steps = int(train_size/batch_size) ## number of steps per epoch\n",
        "num_epochs = 50\n",
        "step_size = 1e-3\n",
        "epoch0=1\n",
        "if num_classes==5:\n",
        "  loss = loss_cov\n",
        "else:\n",
        "  loss = loss_L2\n",
        "\n",
        "init_fun, predict_fun = ResNet50(num_classes)\n",
        "# _, init_params = init_fun(rng_key, input_shape)\n",
        "######### JL to do: change to grab the newest file automatically\n",
        "fn_model = model_path+'jax_resnet_Nclass{}_epoch{:0.0f}_stepsize{}_model.pickle'.format(num_classes, 10, step_size)\n",
        "# fn_model=model_path+'jax_resnet_model_epoch{:0.0f}_stepsize{}.pickle'.format(49, 0.0001)\n",
        "init_params = loadmodel(fn_model)\n",
        "\n",
        "opt_init, opt_update, get_params = optimizers.adam(step_size) ##### seems to work best\n",
        "# opt_init, opt_update, get_params = optimizers.adagrad(step_size) #### seems to work\n",
        "# opt_init, opt_update, get_params = optimizers.sgd(step_size) ### doesn't work well\n",
        "# opt_init, opt_update, get_params = optimizers.nesterov(step_size, mass=0.9) ### doesn't work well\n",
        "# opt_init, opt_update, get_params = optimizers.momentum(step_size, mass=0.9) ## doesn't work well\n",
        "\n",
        "@jit\n",
        "def update(i, opt_state, batch):\n",
        "  params = get_params(opt_state)\n",
        "  return opt_update(i, grad(loss)(params, batch), opt_state)\n",
        "\n",
        "######## to do: record loss\n",
        "losses = []\n",
        "\n",
        "opt_state = opt_init(init_params)\n",
        "\n",
        "start_time = time.time()\n",
        "for epoch in range(num_epochs):\n",
        "  for istep in range(num_steps):  \n",
        "    this_batch=next(batches)\n",
        "    opt_state = update(istep, opt_state, this_batch)\n",
        "    if istep%50==0:\n",
        "      epoch_time = (time.time() - start_time)/60.0 ## minutes\n",
        "      test_NNparams = get_params(opt_state)\n",
        "      train_loss = loss(test_NNparams, this_batch)\n",
        "      valid_loss = loss(test_NNparams, valid_batch)\n",
        "      print(\"Epoch {} at {:0.2f}m, train loss: {:0.4f}, validation loss: {:0.4f}\".format(epoch+epoch0, \n",
        "                                                   epoch_time, train_loss, valid_loss))\n",
        "  \n",
        "  losses.append([epoch,train_loss, valid_loss])\n",
        "\n",
        "fn_model = model_path+'jax_resnet_Nclass{}_epoch{:0.0f}_stepsize{}_model.pickle'.format(num_classes, num_epochs, step_size)\n",
        "fn_losses = model_path+'jax_resnet_Nclass{}_epoch{:0.0f}_stepsize{}_losses.npy'.format(num_classes, num_epochs, step_size)\n",
        "\n",
        "savemodel(test_NNparams, fn_model,overwrite=1)\n",
        "save(fn_losses, losses)\n"
      ],
      "execution_count": 24,
      "outputs": [
        {
          "output_type": "stream",
          "text": [
            "Epoch 1 at 0.16m, train loss: 0.0126, validation loss: 0.0126\n",
            "Epoch 1 at 0.28m, train loss: 0.0133, validation loss: 0.0124\n",
            "Epoch 1 at 0.41m, train loss: 0.0133, validation loss: 0.0124\n",
            "Epoch 1 at 0.53m, train loss: 0.0149, validation loss: 0.0124\n",
            "Epoch 1 at 0.65m, train loss: 0.0119, validation loss: 0.0124\n",
            "Epoch 1 at 0.77m, train loss: 0.0155, validation loss: 0.0124\n",
            "Epoch 2 at 0.88m, train loss: 0.0129, validation loss: 0.0124\n",
            "Epoch 2 at 1.01m, train loss: 0.0127, validation loss: 0.0124\n",
            "Epoch 2 at 1.13m, train loss: 0.0134, validation loss: 0.0124\n",
            "Epoch 2 at 1.25m, train loss: 0.0121, validation loss: 0.0124\n",
            "Epoch 2 at 1.37m, train loss: 0.0123, validation loss: 0.0124\n",
            "Epoch 2 at 1.49m, train loss: 0.0150, validation loss: 0.0124\n",
            "Epoch 3 at 1.57m, train loss: 0.0128, validation loss: 0.0124\n",
            "Epoch 3 at 1.73m, train loss: 0.0121, validation loss: 0.0124\n",
            "Epoch 3 at 1.85m, train loss: 0.0141, validation loss: 0.0124\n",
            "Epoch 3 at 1.97m, train loss: 0.0115, validation loss: 0.0124\n",
            "Epoch 3 at 2.09m, train loss: 0.0122, validation loss: 0.0124\n",
            "Epoch 3 at 2.22m, train loss: 0.0150, validation loss: 0.0124\n",
            "Epoch 4 at 2.29m, train loss: 0.0124, validation loss: 0.0124\n",
            "Epoch 4 at 2.45m, train loss: 0.0124, validation loss: 0.0124\n",
            "Epoch 4 at 2.57m, train loss: 0.0146, validation loss: 0.0124\n",
            "Epoch 4 at 2.70m, train loss: 0.0108, validation loss: 0.0124\n",
            "Epoch 4 at 2.82m, train loss: 0.0130, validation loss: 0.0124\n",
            "Epoch 4 at 2.94m, train loss: 0.0158, validation loss: 0.0124\n",
            "Epoch 5 at 3.01m, train loss: 0.0124, validation loss: 0.0124\n",
            "Epoch 5 at 3.17m, train loss: 0.0122, validation loss: 0.0124\n",
            "Epoch 5 at 3.30m, train loss: 0.0140, validation loss: 0.0124\n",
            "Epoch 5 at 3.42m, train loss: 0.0110, validation loss: 0.0124\n",
            "Epoch 5 at 3.54m, train loss: 0.0139, validation loss: 0.0124\n",
            "Epoch 5 at 3.66m, train loss: 0.0150, validation loss: 0.0124\n",
            "Epoch 6 at 3.74m, train loss: 0.0114, validation loss: 0.0124\n",
            "Epoch 6 at 3.90m, train loss: 0.0124, validation loss: 0.0124\n",
            "Epoch 6 at 4.02m, train loss: 0.0136, validation loss: 0.0124\n",
            "Epoch 6 at 4.14m, train loss: 0.0122, validation loss: 0.0124\n",
            "Epoch 6 at 4.26m, train loss: 0.0136, validation loss: 0.0124\n",
            "Epoch 6 at 4.39m, train loss: 0.0154, validation loss: 0.0124\n",
            "Epoch 7 at 4.46m, train loss: 0.0110, validation loss: 0.0124\n",
            "Epoch 7 at 4.62m, train loss: 0.0134, validation loss: 0.0124\n",
            "Epoch 7 at 4.74m, train loss: 0.0120, validation loss: 0.0124\n",
            "Epoch 7 at 4.86m, train loss: 0.0131, validation loss: 0.0124\n",
            "Epoch 7 at 4.99m, train loss: 0.0145, validation loss: 0.0124\n",
            "Epoch 7 at 5.11m, train loss: 0.0153, validation loss: 0.0124\n",
            "Epoch 8 at 5.18m, train loss: 0.0116, validation loss: 0.0124\n",
            "Epoch 8 at 5.34m, train loss: 0.0135, validation loss: 0.0124\n",
            "Epoch 8 at 5.46m, train loss: 0.0114, validation loss: 0.0124\n",
            "Epoch 8 at 5.58m, train loss: 0.0134, validation loss: 0.0124\n",
            "Epoch 8 at 5.71m, train loss: 0.0132, validation loss: 0.0124\n",
            "Epoch 8 at 5.83m, train loss: 0.0142, validation loss: 0.0124\n",
            "Epoch 9 at 5.90m, train loss: 0.0114, validation loss: 0.0124\n",
            "Epoch 9 at 6.06m, train loss: 0.0140, validation loss: 0.0124\n",
            "Epoch 9 at 6.18m, train loss: 0.0113, validation loss: 0.0124\n",
            "Epoch 9 at 6.31m, train loss: 0.0135, validation loss: 0.0124\n",
            "Epoch 9 at 6.43m, train loss: 0.0126, validation loss: 0.0124\n",
            "Epoch 9 at 6.55m, train loss: 0.0139, validation loss: 0.0124\n",
            "Epoch 10 at 6.62m, train loss: 0.0125, validation loss: 0.0124\n",
            "Epoch 10 at 6.78m, train loss: 0.0135, validation loss: 0.0124\n",
            "Epoch 10 at 6.90m, train loss: 0.0116, validation loss: 0.0124\n",
            "Epoch 10 at 7.03m, train loss: 0.0149, validation loss: 0.0124\n",
            "Epoch 10 at 7.15m, train loss: 0.0132, validation loss: 0.0124\n",
            "Epoch 10 at 7.27m, train loss: 0.0144, validation loss: 0.0124\n",
            "Epoch 11 at 7.34m, train loss: 0.0126, validation loss: 0.0124\n",
            "Epoch 11 at 7.50m, train loss: 0.0133, validation loss: 0.0124\n",
            "Epoch 11 at 7.63m, train loss: 0.0125, validation loss: 0.0124\n",
            "Epoch 11 at 7.75m, train loss: 0.0149, validation loss: 0.0124\n",
            "Epoch 11 at 7.87m, train loss: 0.0126, validation loss: 0.0124\n",
            "Epoch 11 at 7.99m, train loss: 0.0135, validation loss: 0.0124\n",
            "Epoch 12 at 8.06m, train loss: 0.0117, validation loss: 0.0124\n",
            "Epoch 12 at 8.22m, train loss: 0.0140, validation loss: 0.0124\n",
            "Epoch 12 at 8.35m, train loss: 0.0132, validation loss: 0.0124\n",
            "Epoch 12 at 8.47m, train loss: 0.0149, validation loss: 0.0124\n",
            "Epoch 12 at 8.59m, train loss: 0.0131, validation loss: 0.0124\n",
            "Epoch 12 at 8.71m, train loss: 0.0132, validation loss: 0.0124\n",
            "Epoch 13 at 8.79m, train loss: 0.0106, validation loss: 0.0124\n",
            "Epoch 13 at 8.94m, train loss: 0.0140, validation loss: 0.0124\n",
            "Epoch 13 at 9.07m, train loss: 0.0137, validation loss: 0.0124\n",
            "Epoch 13 at 9.19m, train loss: 0.0138, validation loss: 0.0124\n",
            "Epoch 13 at 9.31m, train loss: 0.0126, validation loss: 0.0124\n",
            "Epoch 13 at 9.43m, train loss: 0.0133, validation loss: 0.0124\n",
            "Epoch 14 at 9.50m, train loss: 0.0101, validation loss: 0.0124\n",
            "Epoch 14 at 9.66m, train loss: 0.0135, validation loss: 0.0124\n",
            "Epoch 14 at 9.78m, train loss: 0.0128, validation loss: 0.0124\n",
            "Epoch 14 at 9.91m, train loss: 0.0130, validation loss: 0.0124\n",
            "Epoch 14 at 10.03m, train loss: 0.0122, validation loss: 0.0124\n",
            "Epoch 14 at 10.15m, train loss: 0.0129, validation loss: 0.0124\n",
            "Epoch 15 at 10.22m, train loss: 0.0111, validation loss: 0.0124\n",
            "Epoch 15 at 10.38m, train loss: 0.0133, validation loss: 0.0124\n",
            "Epoch 15 at 10.50m, train loss: 0.0128, validation loss: 0.0124\n",
            "Epoch 15 at 10.62m, train loss: 0.0131, validation loss: 0.0124\n",
            "Epoch 15 at 10.74m, train loss: 0.0114, validation loss: 0.0124\n",
            "Epoch 15 at 10.87m, train loss: 0.0141, validation loss: 0.0124\n",
            "Epoch 16 at 10.94m, train loss: 0.0121, validation loss: 0.0124\n",
            "Epoch 16 at 11.10m, train loss: 0.0126, validation loss: 0.0124\n",
            "Epoch 16 at 11.22m, train loss: 0.0129, validation loss: 0.0124\n",
            "Epoch 16 at 11.34m, train loss: 0.0134, validation loss: 0.0124\n",
            "Epoch 16 at 11.46m, train loss: 0.0119, validation loss: 0.0124\n",
            "Epoch 16 at 11.58m, train loss: 0.0144, validation loss: 0.0124\n",
            "Epoch 17 at 11.66m, train loss: 0.0141, validation loss: 0.0124\n",
            "Epoch 17 at 11.81m, train loss: 0.0127, validation loss: 0.0124\n",
            "Epoch 17 at 11.94m, train loss: 0.0131, validation loss: 0.0124\n",
            "Epoch 17 at 12.06m, train loss: 0.0137, validation loss: 0.0124\n",
            "Epoch 17 at 12.18m, train loss: 0.0133, validation loss: 0.0124\n",
            "Epoch 17 at 12.30m, train loss: 0.0143, validation loss: 0.0124\n",
            "Epoch 18 at 12.37m, train loss: 0.0146, validation loss: 0.0124\n",
            "Epoch 18 at 12.53m, train loss: 0.0131, validation loss: 0.0124\n",
            "Epoch 18 at 12.65m, train loss: 0.0146, validation loss: 0.0124\n",
            "Epoch 18 at 12.78m, train loss: 0.0127, validation loss: 0.0124\n",
            "Epoch 18 at 12.90m, train loss: 0.0127, validation loss: 0.0124\n",
            "Epoch 18 at 13.02m, train loss: 0.0144, validation loss: 0.0124\n",
            "Epoch 19 at 13.09m, train loss: 0.0134, validation loss: 0.0124\n",
            "Epoch 19 at 13.25m, train loss: 0.0135, validation loss: 0.0124\n",
            "Epoch 19 at 13.37m, train loss: 0.0135, validation loss: 0.0124\n",
            "Epoch 19 at 13.49m, train loss: 0.0121, validation loss: 0.0124\n",
            "Epoch 19 at 13.61m, train loss: 0.0140, validation loss: 0.0124\n",
            "Epoch 19 at 13.74m, train loss: 0.0132, validation loss: 0.0124\n",
            "Epoch 20 at 13.81m, train loss: 0.0122, validation loss: 0.0124\n",
            "Epoch 20 at 13.97m, train loss: 0.0138, validation loss: 0.0124\n",
            "Epoch 20 at 14.09m, train loss: 0.0129, validation loss: 0.0124\n",
            "Epoch 20 at 14.21m, train loss: 0.0107, validation loss: 0.0124\n",
            "Epoch 20 at 14.33m, train loss: 0.0144, validation loss: 0.0124\n",
            "Epoch 20 at 14.45m, train loss: 0.0130, validation loss: 0.0124\n",
            "Epoch 21 at 14.52m, train loss: 0.0118, validation loss: 0.0124\n",
            "Epoch 21 at 14.68m, train loss: 0.0145, validation loss: 0.0124\n",
            "Epoch 21 at 14.80m, train loss: 0.0126, validation loss: 0.0124\n",
            "Epoch 21 at 14.93m, train loss: 0.0124, validation loss: 0.0124\n",
            "Epoch 21 at 15.05m, train loss: 0.0132, validation loss: 0.0124\n",
            "Epoch 21 at 15.17m, train loss: 0.0127, validation loss: 0.0124\n",
            "Epoch 22 at 15.24m, train loss: 0.0122, validation loss: 0.0124\n",
            "Epoch 22 at 15.40m, train loss: 0.0142, validation loss: 0.0124\n",
            "Epoch 22 at 15.52m, train loss: 0.0113, validation loss: 0.0124\n",
            "Epoch 22 at 15.64m, train loss: 0.0139, validation loss: 0.0124\n",
            "Epoch 22 at 15.76m, train loss: 0.0131, validation loss: 0.0124\n",
            "Epoch 22 at 15.89m, train loss: 0.0116, validation loss: 0.0124\n",
            "Epoch 23 at 15.96m, train loss: 0.0123, validation loss: 0.0124\n",
            "Epoch 23 at 16.12m, train loss: 0.0138, validation loss: 0.0124\n",
            "Epoch 23 at 16.24m, train loss: 0.0116, validation loss: 0.0124\n",
            "Epoch 23 at 16.36m, train loss: 0.0140, validation loss: 0.0124\n",
            "Epoch 23 at 16.48m, train loss: 0.0134, validation loss: 0.0124\n",
            "Epoch 23 at 16.60m, train loss: 0.0123, validation loss: 0.0124\n",
            "Epoch 24 at 16.68m, train loss: 0.0141, validation loss: 0.0124\n",
            "Epoch 24 at 16.83m, train loss: 0.0129, validation loss: 0.0124\n",
            "Epoch 24 at 16.95m, train loss: 0.0127, validation loss: 0.0124\n",
            "Epoch 24 at 17.08m, train loss: 0.0146, validation loss: 0.0124\n",
            "Epoch 24 at 17.20m, train loss: 0.0129, validation loss: 0.0124\n",
            "Epoch 24 at 17.32m, train loss: 0.0122, validation loss: 0.0124\n",
            "Epoch 25 at 17.39m, train loss: 0.0151, validation loss: 0.0124\n",
            "Epoch 25 at 17.55m, train loss: 0.0121, validation loss: 0.0124\n",
            "Epoch 25 at 17.67m, train loss: 0.0128, validation loss: 0.0124\n",
            "Epoch 25 at 17.79m, train loss: 0.0138, validation loss: 0.0124\n",
            "Epoch 25 at 17.91m, train loss: 0.0138, validation loss: 0.0124\n",
            "Epoch 25 at 18.03m, train loss: 0.0130, validation loss: 0.0124\n",
            "Epoch 26 at 18.10m, train loss: 0.0154, validation loss: 0.0124\n",
            "Epoch 26 at 18.26m, train loss: 0.0119, validation loss: 0.0124\n",
            "Epoch 26 at 18.38m, train loss: 0.0134, validation loss: 0.0124\n",
            "Epoch 26 at 18.51m, train loss: 0.0121, validation loss: 0.0124\n",
            "Epoch 26 at 18.63m, train loss: 0.0145, validation loss: 0.0124\n",
            "Epoch 26 at 18.75m, train loss: 0.0140, validation loss: 0.0124\n",
            "Epoch 27 at 18.82m, train loss: 0.0152, validation loss: 0.0124\n",
            "Epoch 27 at 18.98m, train loss: 0.0118, validation loss: 0.0124\n",
            "Epoch 27 at 19.10m, train loss: 0.0146, validation loss: 0.0124\n",
            "Epoch 27 at 19.22m, train loss: 0.0124, validation loss: 0.0124\n",
            "Epoch 27 at 19.34m, train loss: 0.0133, validation loss: 0.0124\n",
            "Epoch 27 at 19.47m, train loss: 0.0146, validation loss: 0.0124\n",
            "Epoch 28 at 19.54m, train loss: 0.0142, validation loss: 0.0124\n",
            "Epoch 28 at 19.70m, train loss: 0.0125, validation loss: 0.0124\n",
            "Epoch 28 at 19.82m, train loss: 0.0131, validation loss: 0.0124\n",
            "Epoch 28 at 19.94m, train loss: 0.0124, validation loss: 0.0124\n",
            "Epoch 28 at 20.06m, train loss: 0.0130, validation loss: 0.0124\n",
            "Epoch 28 at 20.18m, train loss: 0.0149, validation loss: 0.0124\n",
            "Epoch 29 at 20.26m, train loss: 0.0137, validation loss: 0.0124\n",
            "Epoch 29 at 20.41m, train loss: 0.0119, validation loss: 0.0124\n",
            "Epoch 29 at 20.54m, train loss: 0.0142, validation loss: 0.0124\n",
            "Epoch 29 at 20.66m, train loss: 0.0107, validation loss: 0.0124\n",
            "Epoch 29 at 20.78m, train loss: 0.0123, validation loss: 0.0124\n",
            "Epoch 29 at 20.90m, train loss: 0.0147, validation loss: 0.0124\n",
            "Epoch 30 at 20.97m, train loss: 0.0127, validation loss: 0.0124\n",
            "Epoch 30 at 21.13m, train loss: 0.0116, validation loss: 0.0124\n",
            "Epoch 30 at 21.25m, train loss: 0.0133, validation loss: 0.0124\n",
            "Epoch 30 at 21.38m, train loss: 0.0114, validation loss: 0.0124\n",
            "Epoch 30 at 21.50m, train loss: 0.0128, validation loss: 0.0124\n",
            "Epoch 30 at 21.62m, train loss: 0.0144, validation loss: 0.0124\n",
            "Epoch 31 at 21.70m, train loss: 0.0133, validation loss: 0.0124\n",
            "Epoch 31 at 21.85m, train loss: 0.0113, validation loss: 0.0124\n",
            "Epoch 31 at 21.98m, train loss: 0.0123, validation loss: 0.0124\n",
            "Epoch 31 at 22.10m, train loss: 0.0109, validation loss: 0.0124\n",
            "Epoch 31 at 22.22m, train loss: 0.0136, validation loss: 0.0124\n",
            "Epoch 31 at 22.34m, train loss: 0.0135, validation loss: 0.0124\n",
            "Epoch 32 at 22.41m, train loss: 0.0140, validation loss: 0.0124\n",
            "Epoch 32 at 22.57m, train loss: 0.0110, validation loss: 0.0124\n",
            "Epoch 32 at 22.70m, train loss: 0.0126, validation loss: 0.0124\n",
            "Epoch 32 at 22.82m, train loss: 0.0105, validation loss: 0.0124\n",
            "Epoch 32 at 22.94m, train loss: 0.0144, validation loss: 0.0124\n",
            "Epoch 32 at 23.06m, train loss: 0.0133, validation loss: 0.0124\n",
            "Epoch 33 at 23.13m, train loss: 0.0138, validation loss: 0.0124\n",
            "Epoch 33 at 23.29m, train loss: 0.0116, validation loss: 0.0124\n",
            "Epoch 33 at 23.41m, train loss: 0.0122, validation loss: 0.0124\n",
            "Epoch 33 at 23.54m, train loss: 0.0132, validation loss: 0.0124\n",
            "Epoch 33 at 23.66m, train loss: 0.0156, validation loss: 0.0124\n",
            "Epoch 33 at 23.78m, train loss: 0.0135, validation loss: 0.0124\n",
            "Epoch 34 at 23.85m, train loss: 0.0146, validation loss: 0.0124\n",
            "Epoch 34 at 24.01m, train loss: 0.0123, validation loss: 0.0124\n",
            "Epoch 34 at 24.13m, train loss: 0.0131, validation loss: 0.0124\n",
            "Epoch 34 at 24.26m, train loss: 0.0133, validation loss: 0.0124\n",
            "Epoch 34 at 24.38m, train loss: 0.0162, validation loss: 0.0124\n",
            "Epoch 34 at 24.50m, train loss: 0.0133, validation loss: 0.0124\n",
            "Epoch 35 at 24.57m, train loss: 0.0144, validation loss: 0.0124\n",
            "Epoch 35 at 24.73m, train loss: 0.0122, validation loss: 0.0124\n",
            "Epoch 35 at 24.85m, train loss: 0.0138, validation loss: 0.0124\n",
            "Epoch 35 at 24.98m, train loss: 0.0142, validation loss: 0.0124\n",
            "Epoch 35 at 25.10m, train loss: 0.0157, validation loss: 0.0124\n",
            "Epoch 35 at 25.22m, train loss: 0.0135, validation loss: 0.0124\n",
            "Epoch 36 at 25.29m, train loss: 0.0137, validation loss: 0.0124\n",
            "Epoch 36 at 25.45m, train loss: 0.0128, validation loss: 0.0124\n",
            "Epoch 36 at 25.57m, train loss: 0.0134, validation loss: 0.0124\n",
            "Epoch 36 at 25.70m, train loss: 0.0151, validation loss: 0.0124\n",
            "Epoch 36 at 25.82m, train loss: 0.0150, validation loss: 0.0124\n",
            "Epoch 36 at 25.94m, train loss: 0.0127, validation loss: 0.0124\n",
            "Epoch 37 at 26.01m, train loss: 0.0128, validation loss: 0.0124\n",
            "Epoch 37 at 26.17m, train loss: 0.0122, validation loss: 0.0124\n",
            "Epoch 37 at 26.29m, train loss: 0.0126, validation loss: 0.0124\n",
            "Epoch 37 at 26.42m, train loss: 0.0136, validation loss: 0.0124\n",
            "Epoch 37 at 26.54m, train loss: 0.0143, validation loss: 0.0124\n",
            "Epoch 37 at 26.66m, train loss: 0.0117, validation loss: 0.0124\n",
            "Epoch 38 at 26.73m, train loss: 0.0121, validation loss: 0.0124\n",
            "Epoch 38 at 26.89m, train loss: 0.0122, validation loss: 0.0124\n",
            "Epoch 38 at 27.01m, train loss: 0.0116, validation loss: 0.0124\n",
            "Epoch 38 at 27.14m, train loss: 0.0138, validation loss: 0.0124\n",
            "Epoch 38 at 27.26m, train loss: 0.0129, validation loss: 0.0124\n",
            "Epoch 38 at 27.38m, train loss: 0.0120, validation loss: 0.0124\n",
            "Epoch 39 at 27.45m, train loss: 0.0123, validation loss: 0.0124\n",
            "Epoch 39 at 27.61m, train loss: 0.0134, validation loss: 0.0124\n",
            "Epoch 39 at 27.73m, train loss: 0.0110, validation loss: 0.0124\n",
            "Epoch 39 at 27.86m, train loss: 0.0135, validation loss: 0.0124\n",
            "Epoch 39 at 27.98m, train loss: 0.0126, validation loss: 0.0124\n",
            "Epoch 39 at 28.10m, train loss: 0.0127, validation loss: 0.0124\n",
            "Epoch 40 at 28.17m, train loss: 0.0122, validation loss: 0.0124\n",
            "Epoch 40 at 28.33m, train loss: 0.0129, validation loss: 0.0124\n",
            "Epoch 40 at 28.46m, train loss: 0.0120, validation loss: 0.0124\n",
            "Epoch 40 at 28.58m, train loss: 0.0137, validation loss: 0.0124\n",
            "Epoch 40 at 28.70m, train loss: 0.0130, validation loss: 0.0124\n",
            "Epoch 40 at 28.82m, train loss: 0.0133, validation loss: 0.0124\n",
            "Epoch 41 at 28.89m, train loss: 0.0124, validation loss: 0.0124\n",
            "Epoch 41 at 29.05m, train loss: 0.0141, validation loss: 0.0124\n",
            "Epoch 41 at 29.18m, train loss: 0.0124, validation loss: 0.0124\n",
            "Epoch 41 at 29.30m, train loss: 0.0138, validation loss: 0.0124\n",
            "Epoch 41 at 29.42m, train loss: 0.0131, validation loss: 0.0124\n",
            "Epoch 41 at 29.54m, train loss: 0.0145, validation loss: 0.0124\n",
            "Epoch 42 at 29.62m, train loss: 0.0132, validation loss: 0.0124\n",
            "Epoch 42 at 29.77m, train loss: 0.0139, validation loss: 0.0124\n",
            "Epoch 42 at 29.90m, train loss: 0.0132, validation loss: 0.0124\n",
            "Epoch 42 at 30.02m, train loss: 0.0129, validation loss: 0.0124\n",
            "Epoch 42 at 30.14m, train loss: 0.0139, validation loss: 0.0124\n",
            "Epoch 42 at 30.26m, train loss: 0.0139, validation loss: 0.0124\n",
            "Epoch 43 at 30.34m, train loss: 0.0137, validation loss: 0.0124\n",
            "Epoch 43 at 30.50m, train loss: 0.0126, validation loss: 0.0124\n",
            "Epoch 43 at 30.62m, train loss: 0.0137, validation loss: 0.0124\n",
            "Epoch 43 at 30.74m, train loss: 0.0126, validation loss: 0.0124\n",
            "Epoch 43 at 30.86m, train loss: 0.0143, validation loss: 0.0124\n",
            "Epoch 43 at 30.98m, train loss: 0.0126, validation loss: 0.0124\n",
            "Epoch 44 at 31.06m, train loss: 0.0147, validation loss: 0.0124\n",
            "Epoch 44 at 31.22m, train loss: 0.0126, validation loss: 0.0124\n",
            "Epoch 44 at 31.34m, train loss: 0.0130, validation loss: 0.0124\n",
            "Epoch 44 at 31.46m, train loss: 0.0121, validation loss: 0.0124\n",
            "Epoch 44 at 31.58m, train loss: 0.0134, validation loss: 0.0124\n",
            "Epoch 44 at 31.70m, train loss: 0.0126, validation loss: 0.0124\n",
            "Epoch 45 at 31.78m, train loss: 0.0153, validation loss: 0.0124\n",
            "Epoch 45 at 31.94m, train loss: 0.0121, validation loss: 0.0124\n",
            "Epoch 45 at 32.06m, train loss: 0.0134, validation loss: 0.0124\n",
            "Epoch 45 at 32.18m, train loss: 0.0122, validation loss: 0.0124\n",
            "Epoch 45 at 32.31m, train loss: 0.0133, validation loss: 0.0124\n",
            "Epoch 45 at 32.43m, train loss: 0.0122, validation loss: 0.0124\n",
            "Epoch 46 at 32.50m, train loss: 0.0151, validation loss: 0.0124\n",
            "Epoch 46 at 32.66m, train loss: 0.0116, validation loss: 0.0124\n",
            "Epoch 46 at 32.78m, train loss: 0.0138, validation loss: 0.0124\n",
            "Epoch 46 at 32.91m, train loss: 0.0138, validation loss: 0.0124\n",
            "Epoch 46 at 33.03m, train loss: 0.0126, validation loss: 0.0124\n",
            "Epoch 46 at 33.15m, train loss: 0.0117, validation loss: 0.0124\n",
            "Epoch 47 at 33.22m, train loss: 0.0141, validation loss: 0.0124\n",
            "Epoch 47 at 33.38m, train loss: 0.0132, validation loss: 0.0124\n",
            "Epoch 47 at 33.51m, train loss: 0.0138, validation loss: 0.0124\n",
            "Epoch 47 at 33.63m, train loss: 0.0145, validation loss: 0.0124\n",
            "Epoch 47 at 33.75m, train loss: 0.0130, validation loss: 0.0124\n",
            "Epoch 47 at 33.87m, train loss: 0.0129, validation loss: 0.0124\n",
            "Epoch 48 at 33.94m, train loss: 0.0137, validation loss: 0.0124\n",
            "Epoch 48 at 34.10m, train loss: 0.0131, validation loss: 0.0124\n",
            "Epoch 48 at 34.23m, train loss: 0.0135, validation loss: 0.0124\n",
            "Epoch 48 at 34.35m, train loss: 0.0156, validation loss: 0.0124\n",
            "Epoch 48 at 34.47m, train loss: 0.0136, validation loss: 0.0124\n",
            "Epoch 48 at 34.59m, train loss: 0.0123, validation loss: 0.0124\n",
            "Epoch 49 at 34.67m, train loss: 0.0137, validation loss: 0.0124\n",
            "Epoch 49 at 34.83m, train loss: 0.0129, validation loss: 0.0124\n",
            "Epoch 49 at 34.95m, train loss: 0.0133, validation loss: 0.0124\n",
            "Epoch 49 at 35.07m, train loss: 0.0152, validation loss: 0.0124\n",
            "Epoch 49 at 35.19m, train loss: 0.0131, validation loss: 0.0124\n",
            "Epoch 49 at 35.32m, train loss: 0.0121, validation loss: 0.0124\n",
            "Epoch 50 at 35.39m, train loss: 0.0125, validation loss: 0.0124\n",
            "Epoch 50 at 35.55m, train loss: 0.0134, validation loss: 0.0124\n",
            "Epoch 50 at 35.67m, train loss: 0.0132, validation loss: 0.0124\n",
            "Epoch 50 at 35.80m, train loss: 0.0140, validation loss: 0.0124\n",
            "Epoch 50 at 35.92m, train loss: 0.0132, validation loss: 0.0124\n",
            "Epoch 50 at 36.04m, train loss: 0.0128, validation loss: 0.0124\n"
          ],
          "name": "stdout"
        }
      ]
    },
    {
      "cell_type": "code",
      "metadata": {
        "id": "vuUrtvAgPpa3",
        "colab_type": "code",
        "outputId": "24484b2f-9a32-47ea-e559-570a9c426fc9",
        "colab": {
          "base_uri": "https://localhost:8080/",
          "height": 297
        }
      },
      "source": [
        "fn_model = model_path+'jax_resnet_Nclass{}_epoch{:0.0f}_stepsize{}_model.pickle'.format(num_classes, num_epochs, step_size)\n",
        "fn_losses = model_path+'jax_resnet_Nclass{}_epoch{:0.0f}_stepsize{}_losses.npy'.format(num_classes, num_epochs, step_size)\n",
        "\n",
        "losses=load(fn_losses)\n",
        "epocharr, losses_train, losses_val = np.array(losses).T\n",
        "\n",
        "test_NNparams = loadmodel(fn_model)\n",
        "params_pred = predict_fun(test_NNparams, valid_maps)\n",
        "params_input = params_valid\n",
        "true_s8=S8_gen(params_valid)\n",
        "pred_s8=S8_gen(params_pred)\n",
        "\n",
        "figure(figsize=(14,4))\n",
        "subplot(1,3,1)\n",
        "scatter(params_input.T[0], params_input.T[1],color='r', label='input')\n",
        "scatter(params_pred.T[0], params_pred.T[1],color='b', label='prediction')\n",
        "title('parameters')\n",
        "xlabel('om')\n",
        "ylabel('sigma8')\n",
        "legend(fontsize=10, frameon=1)\n",
        "subplot(1,3,2)\n",
        "scatter(true_s8, pred_s8, color='k')\n",
        "xlabel('input S8')\n",
        "ylabel('predicted S8')\n",
        "#ylim(0,1)\n",
        "title('comparison')\n",
        "subplot(1,3,3)\n",
        "plot(epocharr, log10(losses_train),'-',label='loss (training)')\n",
        "plot(epocharr, log10(losses_val), '--',label='lose (validation)')\n",
        "legend(fontsize=10, frameon=0)\n",
        "xlabel('epoch')\n",
        "ylabel('log loss')\n",
        "title('N_epoch={} stepsize={} (5 layers, JAX)'.format(epoch, step_size))\n",
        "plt.tight_layout()"
      ],
      "execution_count": 25,
      "outputs": [
        {
          "output_type": "display_data",
          "data": {
            "image/png": "[encoded data removed]",
            "text/plain": [
              "<Figure size 1008x288 with 3 Axes>"
            ]
          },
          "metadata": {
            "tags": [],
            "needs_background": "light"
          }
        }
      ]
    },
    {
      "cell_type": "code",
      "metadata": {
        "id": "8ffEbGOb8Ce2",
        "colab_type": "code",
        "colab": {}
      },
      "source": [
        "############ check  parameter shape\n",
        "# j=0\n",
        "# for iparam in trained_params:\n",
        "#   print ('layer:',j, '/ parameter shape:', array(iparam).shape)\n",
        "#   #print (iparam)\n",
        "#   j+=1"
      ],
      "execution_count": 0,
      "outputs": []
    },
    {
      "cell_type": "code",
      "metadata": {
        "id": "88O_83W1TTR-",
        "colab_type": "code",
        "colab": {}
      },
      "source": [
        "############# test data save and restart - pass\n",
        "# step_size=0.01\n",
        "# opt_init, opt_update, get_params = optimizers.adam(step_size) ##### seems to work best\n",
        "\n",
        "# _, init_params = init_fun(rng_key, input_shape)\n",
        "# savemodel(init_params, model_path+'test2')\n",
        "# testmodel = loadmodel(model_path+'test2.pickle')\n",
        "# opt_init(testmodel)"
      ],
      "execution_count": 0,
      "outputs": []
    },
    {
      "cell_type": "code",
      "metadata": {
        "id": "dIsGpz5SLQK0",
        "colab_type": "code",
        "colab": {}
      },
      "source": [
        "########## test file save -- pass ############\n",
        "## saved as npy, and can be loaded and use as model prediction directly\n",
        "# np.save(model_path+'test', test_params)\n",
        "# test_model = np.load(model_path+'test.npy',allow_pickle=1)\n",
        "# loss(test_model, this_batch)"
      ],
      "execution_count": 0,
      "outputs": []
    },
    {
      "cell_type": "code",
      "metadata": {
        "id": "cYFv4OVF0BLp",
        "colab_type": "code",
        "colab": {}
      },
      "source": [
        "##### test loss_cov function - pass\n",
        "\n",
        "# kappa_map, params_true = this_batch\n",
        "# params_pred = predict_fun(init_params, kappa_map)\n",
        "\n",
        "\n",
        "# idiff = params_pred[:,:2]-params_true\n",
        "\n",
        "# icov = array([ [params_pred.T[2], params_pred.T[3]], [params_pred.T[3], params_pred.T[4]]]).T\n",
        "# print (params_true.shape, params_pred.shape, idiff.shape, icov.shape)\n",
        "# test_fun=lambda i: np.dot(np.dot(idiff[i],icov[i]),idiff[i])\n",
        "# out=sum(list(map(test_fun, range(batch_size))))\n",
        "\n",
        "# a,b = idiff.T\n",
        "# x0,xy0,y0 = params_pred.T[2:]\n",
        "# [x,xy],[yx,y] = icov.T[0],icov.T[1]\n",
        "# #print (x-x0,xy-xy0,y-y0)\n",
        "# #print (a.shape,b.shape,x.shape,y.shape,xy.shape)\n",
        "# c,d= a*x+b*xy, b*y+a*xy\n",
        "# print (sum(a*c + b*d))"
      ],
      "execution_count": 0,
      "outputs": []
    },
    {
      "cell_type": "code",
      "metadata": {
        "id": "00VJ2TzkaqxH",
        "colab_type": "code",
        "colab": {}
      },
      "source": [
        "########### test generator output shape - pass\n",
        "# final_NNparams = get_params(opt_state)\n",
        "# np.save(model_path+'resnet_params_{:.0f}epochs_{:.2f}stepsize.npy'.format(epoch+1, step_size), final_NNparams)\n",
        "\n",
        "# predictions = predict_fun(final_NNparams, kappa_map)"
      ],
      "execution_count": 0,
      "outputs": []
    },
    {
      "cell_type": "code",
      "metadata": {
        "id": "EpGM1HQq8YUQ",
        "colab_type": "code",
        "colab": {}
      },
      "source": [
        ""
      ],
      "execution_count": 0,
      "outputs": []
    }
  ]
}